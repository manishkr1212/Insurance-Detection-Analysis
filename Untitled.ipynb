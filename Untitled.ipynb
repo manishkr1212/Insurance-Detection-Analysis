{
 "cells": [
  {
   "cell_type": "code",
   "execution_count": 1,
   "id": "e184fedd-eb6d-4210-8e12-89e39caf1f88",
   "metadata": {},
   "outputs": [],
   "source": [
    "import pandas as pd \n",
    "import numpy as np\n",
    "import matplotlib .pyplot as plt\n",
    "import seaborn as sns\n",
    "import warnings \n",
    "warnings.filterwarnings(\"ignore\")"
   ]
  },
  {
   "cell_type": "code",
   "execution_count": 291,
   "id": "0ab4d3c4-c749-4d00-b498-28c526a37c8f",
   "metadata": {},
   "outputs": [],
   "source": [
    "df=pd.read_excel(\"insurance.xlsx\")"
   ]
  },
  {
   "cell_type": "code",
   "execution_count": 293,
   "id": "71399779-b687-4c18-b8ae-447fdd8c0181",
   "metadata": {},
   "outputs": [
    {
     "data": {
      "text/html": [
       "<div>\n",
       "<style scoped>\n",
       "    .dataframe tbody tr th:only-of-type {\n",
       "        vertical-align: middle;\n",
       "    }\n",
       "\n",
       "    .dataframe tbody tr th {\n",
       "        vertical-align: top;\n",
       "    }\n",
       "\n",
       "    .dataframe thead th {\n",
       "        text-align: right;\n",
       "    }\n",
       "</style>\n",
       "<table border=\"1\" class=\"dataframe\">\n",
       "  <thead>\n",
       "    <tr style=\"text-align: right;\">\n",
       "      <th></th>\n",
       "      <th>months_as_customer</th>\n",
       "      <th>age</th>\n",
       "      <th>policy_number</th>\n",
       "      <th>policy_bind_date</th>\n",
       "      <th>policy_state</th>\n",
       "      <th>policy_csl</th>\n",
       "      <th>policy_deductable</th>\n",
       "      <th>policy_annual_premium</th>\n",
       "      <th>umbrella_limit</th>\n",
       "      <th>insured_zip</th>\n",
       "      <th>...</th>\n",
       "      <th>witnesses</th>\n",
       "      <th>police_report_available</th>\n",
       "      <th>total_claim_amount</th>\n",
       "      <th>injury_claim</th>\n",
       "      <th>property_claim</th>\n",
       "      <th>vehicle_claim</th>\n",
       "      <th>auto_make</th>\n",
       "      <th>auto_model</th>\n",
       "      <th>auto_year</th>\n",
       "      <th>fraud_reported</th>\n",
       "    </tr>\n",
       "  </thead>\n",
       "  <tbody>\n",
       "    <tr>\n",
       "      <th>0</th>\n",
       "      <td>328</td>\n",
       "      <td>48</td>\n",
       "      <td>521585</td>\n",
       "      <td>2014-10-17</td>\n",
       "      <td>OH</td>\n",
       "      <td>250/500</td>\n",
       "      <td>1000</td>\n",
       "      <td>1406.91</td>\n",
       "      <td>0</td>\n",
       "      <td>466132</td>\n",
       "      <td>...</td>\n",
       "      <td>2</td>\n",
       "      <td>YES</td>\n",
       "      <td>71610</td>\n",
       "      <td>6510</td>\n",
       "      <td>13020</td>\n",
       "      <td>52080</td>\n",
       "      <td>Saab</td>\n",
       "      <td>92x</td>\n",
       "      <td>2004</td>\n",
       "      <td>Y</td>\n",
       "    </tr>\n",
       "    <tr>\n",
       "      <th>1</th>\n",
       "      <td>228</td>\n",
       "      <td>42</td>\n",
       "      <td>342868</td>\n",
       "      <td>2006-06-27</td>\n",
       "      <td>IN</td>\n",
       "      <td>250/500</td>\n",
       "      <td>2000</td>\n",
       "      <td>1197.22</td>\n",
       "      <td>5000000</td>\n",
       "      <td>468176</td>\n",
       "      <td>...</td>\n",
       "      <td>0</td>\n",
       "      <td>?</td>\n",
       "      <td>5070</td>\n",
       "      <td>780</td>\n",
       "      <td>780</td>\n",
       "      <td>3510</td>\n",
       "      <td>Mercedes</td>\n",
       "      <td>E400</td>\n",
       "      <td>2007</td>\n",
       "      <td>Y</td>\n",
       "    </tr>\n",
       "    <tr>\n",
       "      <th>2</th>\n",
       "      <td>134</td>\n",
       "      <td>29</td>\n",
       "      <td>687698</td>\n",
       "      <td>2000-09-06</td>\n",
       "      <td>OH</td>\n",
       "      <td>100/300</td>\n",
       "      <td>2000</td>\n",
       "      <td>1413.14</td>\n",
       "      <td>5000000</td>\n",
       "      <td>430632</td>\n",
       "      <td>...</td>\n",
       "      <td>3</td>\n",
       "      <td>NO</td>\n",
       "      <td>34650</td>\n",
       "      <td>7700</td>\n",
       "      <td>3850</td>\n",
       "      <td>23100</td>\n",
       "      <td>Dodge</td>\n",
       "      <td>RAM</td>\n",
       "      <td>2007</td>\n",
       "      <td>N</td>\n",
       "    </tr>\n",
       "    <tr>\n",
       "      <th>3</th>\n",
       "      <td>256</td>\n",
       "      <td>41</td>\n",
       "      <td>227811</td>\n",
       "      <td>1990-05-25</td>\n",
       "      <td>IL</td>\n",
       "      <td>250/500</td>\n",
       "      <td>2000</td>\n",
       "      <td>1415.74</td>\n",
       "      <td>6000000</td>\n",
       "      <td>608117</td>\n",
       "      <td>...</td>\n",
       "      <td>2</td>\n",
       "      <td>NO</td>\n",
       "      <td>63400</td>\n",
       "      <td>6340</td>\n",
       "      <td>6340</td>\n",
       "      <td>50720</td>\n",
       "      <td>Chevrolet</td>\n",
       "      <td>Tahoe</td>\n",
       "      <td>2014</td>\n",
       "      <td>Y</td>\n",
       "    </tr>\n",
       "    <tr>\n",
       "      <th>4</th>\n",
       "      <td>228</td>\n",
       "      <td>44</td>\n",
       "      <td>367455</td>\n",
       "      <td>2014-06-06</td>\n",
       "      <td>IL</td>\n",
       "      <td>500/1000</td>\n",
       "      <td>1000</td>\n",
       "      <td>1583.91</td>\n",
       "      <td>6000000</td>\n",
       "      <td>610706</td>\n",
       "      <td>...</td>\n",
       "      <td>1</td>\n",
       "      <td>NO</td>\n",
       "      <td>6500</td>\n",
       "      <td>1300</td>\n",
       "      <td>650</td>\n",
       "      <td>4550</td>\n",
       "      <td>Accura</td>\n",
       "      <td>RSX</td>\n",
       "      <td>2009</td>\n",
       "      <td>N</td>\n",
       "    </tr>\n",
       "    <tr>\n",
       "      <th>...</th>\n",
       "      <td>...</td>\n",
       "      <td>...</td>\n",
       "      <td>...</td>\n",
       "      <td>...</td>\n",
       "      <td>...</td>\n",
       "      <td>...</td>\n",
       "      <td>...</td>\n",
       "      <td>...</td>\n",
       "      <td>...</td>\n",
       "      <td>...</td>\n",
       "      <td>...</td>\n",
       "      <td>...</td>\n",
       "      <td>...</td>\n",
       "      <td>...</td>\n",
       "      <td>...</td>\n",
       "      <td>...</td>\n",
       "      <td>...</td>\n",
       "      <td>...</td>\n",
       "      <td>...</td>\n",
       "      <td>...</td>\n",
       "      <td>...</td>\n",
       "    </tr>\n",
       "    <tr>\n",
       "      <th>995</th>\n",
       "      <td>3</td>\n",
       "      <td>38</td>\n",
       "      <td>941851</td>\n",
       "      <td>1991-07-16</td>\n",
       "      <td>OH</td>\n",
       "      <td>500/1000</td>\n",
       "      <td>1000</td>\n",
       "      <td>1310.80</td>\n",
       "      <td>0</td>\n",
       "      <td>431289</td>\n",
       "      <td>...</td>\n",
       "      <td>1</td>\n",
       "      <td>?</td>\n",
       "      <td>87200</td>\n",
       "      <td>17440</td>\n",
       "      <td>8720</td>\n",
       "      <td>61040</td>\n",
       "      <td>Honda</td>\n",
       "      <td>Accord</td>\n",
       "      <td>2006</td>\n",
       "      <td>N</td>\n",
       "    </tr>\n",
       "    <tr>\n",
       "      <th>996</th>\n",
       "      <td>285</td>\n",
       "      <td>41</td>\n",
       "      <td>186934</td>\n",
       "      <td>2014-01-05</td>\n",
       "      <td>IL</td>\n",
       "      <td>100/300</td>\n",
       "      <td>1000</td>\n",
       "      <td>1436.79</td>\n",
       "      <td>0</td>\n",
       "      <td>608177</td>\n",
       "      <td>...</td>\n",
       "      <td>3</td>\n",
       "      <td>?</td>\n",
       "      <td>108480</td>\n",
       "      <td>18080</td>\n",
       "      <td>18080</td>\n",
       "      <td>72320</td>\n",
       "      <td>Volkswagen</td>\n",
       "      <td>Passat</td>\n",
       "      <td>2015</td>\n",
       "      <td>N</td>\n",
       "    </tr>\n",
       "    <tr>\n",
       "      <th>997</th>\n",
       "      <td>130</td>\n",
       "      <td>34</td>\n",
       "      <td>918516</td>\n",
       "      <td>2003-02-17</td>\n",
       "      <td>OH</td>\n",
       "      <td>250/500</td>\n",
       "      <td>500</td>\n",
       "      <td>1383.49</td>\n",
       "      <td>3000000</td>\n",
       "      <td>442797</td>\n",
       "      <td>...</td>\n",
       "      <td>3</td>\n",
       "      <td>YES</td>\n",
       "      <td>67500</td>\n",
       "      <td>7500</td>\n",
       "      <td>7500</td>\n",
       "      <td>52500</td>\n",
       "      <td>Suburu</td>\n",
       "      <td>Impreza</td>\n",
       "      <td>1996</td>\n",
       "      <td>N</td>\n",
       "    </tr>\n",
       "    <tr>\n",
       "      <th>998</th>\n",
       "      <td>458</td>\n",
       "      <td>62</td>\n",
       "      <td>533940</td>\n",
       "      <td>2011-11-18</td>\n",
       "      <td>IL</td>\n",
       "      <td>500/1000</td>\n",
       "      <td>2000</td>\n",
       "      <td>1356.92</td>\n",
       "      <td>5000000</td>\n",
       "      <td>441714</td>\n",
       "      <td>...</td>\n",
       "      <td>1</td>\n",
       "      <td>YES</td>\n",
       "      <td>46980</td>\n",
       "      <td>5220</td>\n",
       "      <td>5220</td>\n",
       "      <td>36540</td>\n",
       "      <td>Audi</td>\n",
       "      <td>A5</td>\n",
       "      <td>1998</td>\n",
       "      <td>N</td>\n",
       "    </tr>\n",
       "    <tr>\n",
       "      <th>999</th>\n",
       "      <td>456</td>\n",
       "      <td>60</td>\n",
       "      <td>556080</td>\n",
       "      <td>1996-11-11</td>\n",
       "      <td>OH</td>\n",
       "      <td>250/500</td>\n",
       "      <td>1000</td>\n",
       "      <td>766.19</td>\n",
       "      <td>0</td>\n",
       "      <td>612260</td>\n",
       "      <td>...</td>\n",
       "      <td>3</td>\n",
       "      <td>?</td>\n",
       "      <td>5060</td>\n",
       "      <td>460</td>\n",
       "      <td>920</td>\n",
       "      <td>3680</td>\n",
       "      <td>Mercedes</td>\n",
       "      <td>E400</td>\n",
       "      <td>2007</td>\n",
       "      <td>N</td>\n",
       "    </tr>\n",
       "  </tbody>\n",
       "</table>\n",
       "<p>1000 rows × 39 columns</p>\n",
       "</div>"
      ],
      "text/plain": [
       "     months_as_customer  age  policy_number policy_bind_date policy_state  \\\n",
       "0                   328   48         521585       2014-10-17           OH   \n",
       "1                   228   42         342868       2006-06-27           IN   \n",
       "2                   134   29         687698       2000-09-06           OH   \n",
       "3                   256   41         227811       1990-05-25           IL   \n",
       "4                   228   44         367455       2014-06-06           IL   \n",
       "..                  ...  ...            ...              ...          ...   \n",
       "995                   3   38         941851       1991-07-16           OH   \n",
       "996                 285   41         186934       2014-01-05           IL   \n",
       "997                 130   34         918516       2003-02-17           OH   \n",
       "998                 458   62         533940       2011-11-18           IL   \n",
       "999                 456   60         556080       1996-11-11           OH   \n",
       "\n",
       "    policy_csl  policy_deductable  policy_annual_premium  umbrella_limit  \\\n",
       "0      250/500               1000                1406.91               0   \n",
       "1      250/500               2000                1197.22         5000000   \n",
       "2      100/300               2000                1413.14         5000000   \n",
       "3      250/500               2000                1415.74         6000000   \n",
       "4     500/1000               1000                1583.91         6000000   \n",
       "..         ...                ...                    ...             ...   \n",
       "995   500/1000               1000                1310.80               0   \n",
       "996    100/300               1000                1436.79               0   \n",
       "997    250/500                500                1383.49         3000000   \n",
       "998   500/1000               2000                1356.92         5000000   \n",
       "999    250/500               1000                 766.19               0   \n",
       "\n",
       "     insured_zip  ... witnesses police_report_available total_claim_amount  \\\n",
       "0         466132  ...         2                     YES              71610   \n",
       "1         468176  ...         0                       ?               5070   \n",
       "2         430632  ...         3                      NO              34650   \n",
       "3         608117  ...         2                      NO              63400   \n",
       "4         610706  ...         1                      NO               6500   \n",
       "..           ...  ...       ...                     ...                ...   \n",
       "995       431289  ...         1                       ?              87200   \n",
       "996       608177  ...         3                       ?             108480   \n",
       "997       442797  ...         3                     YES              67500   \n",
       "998       441714  ...         1                     YES              46980   \n",
       "999       612260  ...         3                       ?               5060   \n",
       "\n",
       "    injury_claim property_claim  vehicle_claim   auto_make auto_model  \\\n",
       "0           6510          13020          52080        Saab        92x   \n",
       "1            780            780           3510    Mercedes       E400   \n",
       "2           7700           3850          23100       Dodge        RAM   \n",
       "3           6340           6340          50720   Chevrolet      Tahoe   \n",
       "4           1300            650           4550      Accura        RSX   \n",
       "..           ...            ...            ...         ...        ...   \n",
       "995        17440           8720          61040       Honda     Accord   \n",
       "996        18080          18080          72320  Volkswagen     Passat   \n",
       "997         7500           7500          52500      Suburu    Impreza   \n",
       "998         5220           5220          36540        Audi         A5   \n",
       "999          460            920           3680    Mercedes       E400   \n",
       "\n",
       "    auto_year fraud_reported  \n",
       "0        2004              Y  \n",
       "1        2007              Y  \n",
       "2        2007              N  \n",
       "3        2014              Y  \n",
       "4        2009              N  \n",
       "..        ...            ...  \n",
       "995      2006              N  \n",
       "996      2015              N  \n",
       "997      1996              N  \n",
       "998      1998              N  \n",
       "999      2007              N  \n",
       "\n",
       "[1000 rows x 39 columns]"
      ]
     },
     "execution_count": 293,
     "metadata": {},
     "output_type": "execute_result"
    }
   ],
   "source": [
    "df                                  # to show the top 5 and last 5 rows"
   ]
  },
  {
   "cell_type": "code",
   "execution_count": null,
   "id": "c1dff530-8e6d-469f-8a64-c994ad1b29a5",
   "metadata": {},
   "outputs": [],
   "source": [
    "# Title :-       \"Insurance Claim Fraud Detection\""
   ]
  },
  {
   "cell_type": "code",
   "execution_count": null,
   "id": "6f1e67b3-f83f-4cbb-bf26-79b6d47900e5",
   "metadata": {},
   "outputs": [],
   "source": [
    "# Domain:-      \"Finance\""
   ]
  },
  {
   "cell_type": "code",
   "execution_count": null,
   "id": "bf6d5ecc-2739-4671-8ed4-6353aa573b92",
   "metadata": {},
   "outputs": [],
   "source": [
    "# Discription:- \"This project explores insurance claim data to find signs of fraud.\n",
    "#               It uses simple analysis and charts to understand what makes a claim suspicious.\""
   ]
  },
  {
   "cell_type": "code",
   "execution_count": null,
   "id": "caa1db13-5fba-4cea-9b1f-fcb9d8918717",
   "metadata": {},
   "outputs": [],
   "source": [
    "# Skills:-      \"1 Python\",\"2 Pandas\",\"3 Statistics\",\"4 Data manipulation\",\"5 Data Analysis\",\n",
    "#               \"6 Data transformation\",\"7 Data cleaning\",\"8 Data visualization\",\"9 Project methodology\""
   ]
  },
  {
   "cell_type": "markdown",
   "id": "80406ba6-11b3-4278-a389-037211bdd303",
   "metadata": {},
   "source": [
    "# Business Problem understanding"
   ]
  },
  {
   "cell_type": "code",
   "execution_count": null,
   "id": "8c1b00a3-5c27-48df-aff9-8dcdff9eefb6",
   "metadata": {},
   "outputs": [],
   "source": [
    "#  To pridicting Insurance Claim Fraud Detection"
   ]
  },
  {
   "cell_type": "markdown",
   "id": "37dd0c73-9807-4c86-9e4b-dc120b73e870",
   "metadata": {},
   "source": [
    "# Data understanding and exploration"
   ]
  },
  {
   "cell_type": "code",
   "execution_count": 15,
   "id": "44d7b522-3d46-48d4-9c25-ee8680ae4a4f",
   "metadata": {},
   "outputs": [
    {
     "data": {
      "text/plain": [
       "(1000, 39)"
      ]
     },
     "execution_count": 15,
     "metadata": {},
     "output_type": "execute_result"
    }
   ],
   "source": [
    "df.shape               #  to check the total rows and columns"
   ]
  },
  {
   "cell_type": "code",
   "execution_count": null,
   "id": "b1b00e11-39a7-4f3e-baf5-eef9e2f826ea",
   "metadata": {},
   "outputs": [],
   "source": [
    "# Observe : there are 1000 rows and 39 columns"
   ]
  },
  {
   "cell_type": "code",
   "execution_count": 17,
   "id": "bd2ecabd-f44e-484e-9cbf-800e9d4c6229",
   "metadata": {},
   "outputs": [
    {
     "data": {
      "text/plain": [
       "months_as_customer                      int64\n",
       "age                                     int64\n",
       "policy_number                           int64\n",
       "policy_bind_date               datetime64[ns]\n",
       "policy_state                           object\n",
       "policy_csl                             object\n",
       "policy_deductable                       int64\n",
       "policy_annual_premium                 float64\n",
       "umbrella_limit                          int64\n",
       "insured_zip                             int64\n",
       "insured_sex                            object\n",
       "insured_education_level                object\n",
       "insured_occupation                     object\n",
       "insured_hobbies                        object\n",
       "insured_relationship                   object\n",
       "capital-gains                           int64\n",
       "capital-loss                            int64\n",
       "incident_date                  datetime64[ns]\n",
       "incident_type                          object\n",
       "collision_type                         object\n",
       "incident_severity                      object\n",
       "authorities_contacted                  object\n",
       "incident_state                         object\n",
       "incident_city                          object\n",
       "incident_location                      object\n",
       "incident_hour_of_the_day                int64\n",
       "number_of_vehicles_involved             int64\n",
       "property_damage                        object\n",
       "bodily_injuries                         int64\n",
       "witnesses                               int64\n",
       "police_report_available                object\n",
       "total_claim_amount                      int64\n",
       "injury_claim                            int64\n",
       "property_claim                          int64\n",
       "vehicle_claim                           int64\n",
       "auto_make                              object\n",
       "auto_model                             object\n",
       "auto_year                               int64\n",
       "fraud_reported                         object\n",
       "dtype: object"
      ]
     },
     "execution_count": 17,
     "metadata": {},
     "output_type": "execute_result"
    }
   ],
   "source": [
    "df.dtypes             # to check the data types of each columns"
   ]
  },
  {
   "cell_type": "code",
   "execution_count": null,
   "id": "e54bdd16-cb33-447e-9e8c-1e0169e805a4",
   "metadata": {},
   "outputs": [],
   "source": [
    "# observe :  there are  17 int, 19 object,1 float,2 datatime datatypes columns"
   ]
  },
  {
   "cell_type": "code",
   "execution_count": 21,
   "id": "49daf60f-7ced-4717-8d99-9b03f4b237bc",
   "metadata": {},
   "outputs": [
    {
     "name": "stdout",
     "output_type": "stream",
     "text": [
      "<class 'pandas.core.frame.DataFrame'>\n",
      "RangeIndex: 1000 entries, 0 to 999\n",
      "Data columns (total 39 columns):\n",
      " #   Column                       Non-Null Count  Dtype         \n",
      "---  ------                       --------------  -----         \n",
      " 0   months_as_customer           1000 non-null   int64         \n",
      " 1   age                          1000 non-null   int64         \n",
      " 2   policy_number                1000 non-null   int64         \n",
      " 3   policy_bind_date             1000 non-null   datetime64[ns]\n",
      " 4   policy_state                 1000 non-null   object        \n",
      " 5   policy_csl                   1000 non-null   object        \n",
      " 6   policy_deductable            1000 non-null   int64         \n",
      " 7   policy_annual_premium        1000 non-null   float64       \n",
      " 8   umbrella_limit               1000 non-null   int64         \n",
      " 9   insured_zip                  1000 non-null   int64         \n",
      " 10  insured_sex                  1000 non-null   object        \n",
      " 11  insured_education_level      1000 non-null   object        \n",
      " 12  insured_occupation           1000 non-null   object        \n",
      " 13  insured_hobbies              1000 non-null   object        \n",
      " 14  insured_relationship         1000 non-null   object        \n",
      " 15  capital-gains                1000 non-null   int64         \n",
      " 16  capital-loss                 1000 non-null   int64         \n",
      " 17  incident_date                1000 non-null   datetime64[ns]\n",
      " 18  incident_type                1000 non-null   object        \n",
      " 19  collision_type               1000 non-null   object        \n",
      " 20  incident_severity            1000 non-null   object        \n",
      " 21  authorities_contacted        909 non-null    object        \n",
      " 22  incident_state               1000 non-null   object        \n",
      " 23  incident_city                1000 non-null   object        \n",
      " 24  incident_location            1000 non-null   object        \n",
      " 25  incident_hour_of_the_day     1000 non-null   int64         \n",
      " 26  number_of_vehicles_involved  1000 non-null   int64         \n",
      " 27  property_damage              1000 non-null   object        \n",
      " 28  bodily_injuries              1000 non-null   int64         \n",
      " 29  witnesses                    1000 non-null   int64         \n",
      " 30  police_report_available      1000 non-null   object        \n",
      " 31  total_claim_amount           1000 non-null   int64         \n",
      " 32  injury_claim                 1000 non-null   int64         \n",
      " 33  property_claim               1000 non-null   int64         \n",
      " 34  vehicle_claim                1000 non-null   int64         \n",
      " 35  auto_make                    1000 non-null   object        \n",
      " 36  auto_model                   1000 non-null   object        \n",
      " 37  auto_year                    1000 non-null   int64         \n",
      " 38  fraud_reported               1000 non-null   object        \n",
      "dtypes: datetime64[ns](2), float64(1), int64(17), object(19)\n",
      "memory usage: 304.8+ KB\n"
     ]
    }
   ],
   "source": [
    "df.info()             "
   ]
  },
  {
   "cell_type": "code",
   "execution_count": null,
   "id": "eff3b3f9-5320-466f-9ebc-d922499cc86d",
   "metadata": {},
   "outputs": [],
   "source": [
    "# Obesreve: to show the rows ,columns,null value and data type of each columns"
   ]
  },
  {
   "cell_type": "code",
   "execution_count": 23,
   "id": "51e62b32-efc8-4ec9-8b98-9fbb72681f8f",
   "metadata": {},
   "outputs": [
    {
     "data": {
      "text/plain": [
       "months_as_customer              0\n",
       "age                             0\n",
       "policy_number                   0\n",
       "policy_bind_date                0\n",
       "policy_state                    0\n",
       "policy_csl                      0\n",
       "policy_deductable               0\n",
       "policy_annual_premium           0\n",
       "umbrella_limit                  0\n",
       "insured_zip                     0\n",
       "insured_sex                     0\n",
       "insured_education_level         0\n",
       "insured_occupation              0\n",
       "insured_hobbies                 0\n",
       "insured_relationship            0\n",
       "capital-gains                   0\n",
       "capital-loss                    0\n",
       "incident_date                   0\n",
       "incident_type                   0\n",
       "collision_type                  0\n",
       "incident_severity               0\n",
       "authorities_contacted          91\n",
       "incident_state                  0\n",
       "incident_city                   0\n",
       "incident_location               0\n",
       "incident_hour_of_the_day        0\n",
       "number_of_vehicles_involved     0\n",
       "property_damage                 0\n",
       "bodily_injuries                 0\n",
       "witnesses                       0\n",
       "police_report_available         0\n",
       "total_claim_amount              0\n",
       "injury_claim                    0\n",
       "property_claim                  0\n",
       "vehicle_claim                   0\n",
       "auto_make                       0\n",
       "auto_model                      0\n",
       "auto_year                       0\n",
       "fraud_reported                  0\n",
       "dtype: int64"
      ]
     },
     "execution_count": 23,
     "metadata": {},
     "output_type": "execute_result"
    }
   ],
   "source": [
    "df.isnull().sum()            # to check the null values of each columns"
   ]
  },
  {
   "cell_type": "code",
   "execution_count": null,
   "id": "ef17d0d5-e15d-4532-92d5-b94db09ba45e",
   "metadata": {},
   "outputs": [],
   "source": [
    "# observe : only one columns have null value \"authorities_contacted column\""
   ]
  },
  {
   "cell_type": "code",
   "execution_count": 29,
   "id": "c482c94f-a62e-4f1f-ad01-5784f59b5107",
   "metadata": {},
   "outputs": [
    {
     "data": {
      "text/plain": [
       "['months_as_customer',\n",
       " 'age',\n",
       " 'policy_number',\n",
       " 'policy_bind_date',\n",
       " 'policy_state',\n",
       " 'policy_csl',\n",
       " 'policy_deductable',\n",
       " 'policy_annual_premium',\n",
       " 'umbrella_limit',\n",
       " 'insured_zip',\n",
       " 'insured_sex',\n",
       " 'insured_education_level',\n",
       " 'insured_occupation',\n",
       " 'insured_hobbies',\n",
       " 'insured_relationship',\n",
       " 'capital-gains',\n",
       " 'capital-loss',\n",
       " 'incident_date',\n",
       " 'incident_type',\n",
       " 'collision_type',\n",
       " 'incident_severity',\n",
       " 'authorities_contacted',\n",
       " 'incident_state',\n",
       " 'incident_city',\n",
       " 'incident_location',\n",
       " 'incident_hour_of_the_day',\n",
       " 'number_of_vehicles_involved',\n",
       " 'property_damage',\n",
       " 'bodily_injuries',\n",
       " 'witnesses',\n",
       " 'police_report_available',\n",
       " 'total_claim_amount',\n",
       " 'injury_claim',\n",
       " 'property_claim',\n",
       " 'vehicle_claim',\n",
       " 'auto_make',\n",
       " 'auto_model',\n",
       " 'auto_year',\n",
       " 'fraud_reported']"
      ]
     },
     "execution_count": 29,
     "metadata": {},
     "output_type": "execute_result"
    }
   ],
   "source": [
    "df.columns.tolist()"
   ]
  },
  {
   "cell_type": "code",
   "execution_count": null,
   "id": "8eb2a006-a6c5-4f3f-808a-8e9835c21ae7",
   "metadata": {},
   "outputs": [],
   "source": [
    "# Obesreve: To show all columns name in a list"
   ]
  },
  {
   "cell_type": "code",
   "execution_count": 9,
   "id": "b53f95bf-3c1b-47ee-882f-3c89599f19d7",
   "metadata": {},
   "outputs": [
    {
     "data": {
      "text/plain": [
       "0"
      ]
     },
     "execution_count": 9,
     "metadata": {},
     "output_type": "execute_result"
    }
   ],
   "source": [
    "df.duplicated().sum() "
   ]
  },
  {
   "cell_type": "code",
   "execution_count": null,
   "id": "5a19d123-f727-4822-bbc2-2cd6ece67558",
   "metadata": {},
   "outputs": [],
   "source": [
    "# Obesreve: To check all rows for any duplicates values"
   ]
  },
  {
   "cell_type": "code",
   "execution_count": 31,
   "id": "569f332b-00a3-42e9-80dc-904a3abeae1e",
   "metadata": {},
   "outputs": [
    {
     "data": {
      "text/html": [
       "<div>\n",
       "<style scoped>\n",
       "    .dataframe tbody tr th:only-of-type {\n",
       "        vertical-align: middle;\n",
       "    }\n",
       "\n",
       "    .dataframe tbody tr th {\n",
       "        vertical-align: top;\n",
       "    }\n",
       "\n",
       "    .dataframe thead th {\n",
       "        text-align: right;\n",
       "    }\n",
       "</style>\n",
       "<table border=\"1\" class=\"dataframe\">\n",
       "  <thead>\n",
       "    <tr style=\"text-align: right;\">\n",
       "      <th></th>\n",
       "      <th>months_as_customer</th>\n",
       "      <th>age</th>\n",
       "      <th>policy_number</th>\n",
       "      <th>policy_bind_date</th>\n",
       "      <th>policy_state</th>\n",
       "      <th>policy_csl</th>\n",
       "      <th>policy_deductable</th>\n",
       "      <th>policy_annual_premium</th>\n",
       "      <th>umbrella_limit</th>\n",
       "      <th>insured_zip</th>\n",
       "      <th>...</th>\n",
       "      <th>witnesses</th>\n",
       "      <th>police_report_available</th>\n",
       "      <th>total_claim_amount</th>\n",
       "      <th>injury_claim</th>\n",
       "      <th>property_claim</th>\n",
       "      <th>vehicle_claim</th>\n",
       "      <th>auto_make</th>\n",
       "      <th>auto_model</th>\n",
       "      <th>auto_year</th>\n",
       "      <th>fraud_reported</th>\n",
       "    </tr>\n",
       "  </thead>\n",
       "  <tbody>\n",
       "    <tr>\n",
       "      <th>0</th>\n",
       "      <td>328</td>\n",
       "      <td>48</td>\n",
       "      <td>521585</td>\n",
       "      <td>2014-10-17</td>\n",
       "      <td>OH</td>\n",
       "      <td>250/500</td>\n",
       "      <td>1000</td>\n",
       "      <td>1406.91</td>\n",
       "      <td>0</td>\n",
       "      <td>466132</td>\n",
       "      <td>...</td>\n",
       "      <td>2</td>\n",
       "      <td>YES</td>\n",
       "      <td>71610</td>\n",
       "      <td>6510</td>\n",
       "      <td>13020</td>\n",
       "      <td>52080</td>\n",
       "      <td>Saab</td>\n",
       "      <td>92x</td>\n",
       "      <td>2004</td>\n",
       "      <td>Y</td>\n",
       "    </tr>\n",
       "    <tr>\n",
       "      <th>1</th>\n",
       "      <td>228</td>\n",
       "      <td>42</td>\n",
       "      <td>342868</td>\n",
       "      <td>2006-06-27</td>\n",
       "      <td>IN</td>\n",
       "      <td>250/500</td>\n",
       "      <td>2000</td>\n",
       "      <td>1197.22</td>\n",
       "      <td>5000000</td>\n",
       "      <td>468176</td>\n",
       "      <td>...</td>\n",
       "      <td>0</td>\n",
       "      <td>?</td>\n",
       "      <td>5070</td>\n",
       "      <td>780</td>\n",
       "      <td>780</td>\n",
       "      <td>3510</td>\n",
       "      <td>Mercedes</td>\n",
       "      <td>E400</td>\n",
       "      <td>2007</td>\n",
       "      <td>Y</td>\n",
       "    </tr>\n",
       "    <tr>\n",
       "      <th>2</th>\n",
       "      <td>134</td>\n",
       "      <td>29</td>\n",
       "      <td>687698</td>\n",
       "      <td>2000-09-06</td>\n",
       "      <td>OH</td>\n",
       "      <td>100/300</td>\n",
       "      <td>2000</td>\n",
       "      <td>1413.14</td>\n",
       "      <td>5000000</td>\n",
       "      <td>430632</td>\n",
       "      <td>...</td>\n",
       "      <td>3</td>\n",
       "      <td>NO</td>\n",
       "      <td>34650</td>\n",
       "      <td>7700</td>\n",
       "      <td>3850</td>\n",
       "      <td>23100</td>\n",
       "      <td>Dodge</td>\n",
       "      <td>RAM</td>\n",
       "      <td>2007</td>\n",
       "      <td>N</td>\n",
       "    </tr>\n",
       "    <tr>\n",
       "      <th>3</th>\n",
       "      <td>256</td>\n",
       "      <td>41</td>\n",
       "      <td>227811</td>\n",
       "      <td>1990-05-25</td>\n",
       "      <td>IL</td>\n",
       "      <td>250/500</td>\n",
       "      <td>2000</td>\n",
       "      <td>1415.74</td>\n",
       "      <td>6000000</td>\n",
       "      <td>608117</td>\n",
       "      <td>...</td>\n",
       "      <td>2</td>\n",
       "      <td>NO</td>\n",
       "      <td>63400</td>\n",
       "      <td>6340</td>\n",
       "      <td>6340</td>\n",
       "      <td>50720</td>\n",
       "      <td>Chevrolet</td>\n",
       "      <td>Tahoe</td>\n",
       "      <td>2014</td>\n",
       "      <td>Y</td>\n",
       "    </tr>\n",
       "    <tr>\n",
       "      <th>4</th>\n",
       "      <td>228</td>\n",
       "      <td>44</td>\n",
       "      <td>367455</td>\n",
       "      <td>2014-06-06</td>\n",
       "      <td>IL</td>\n",
       "      <td>500/1000</td>\n",
       "      <td>1000</td>\n",
       "      <td>1583.91</td>\n",
       "      <td>6000000</td>\n",
       "      <td>610706</td>\n",
       "      <td>...</td>\n",
       "      <td>1</td>\n",
       "      <td>NO</td>\n",
       "      <td>6500</td>\n",
       "      <td>1300</td>\n",
       "      <td>650</td>\n",
       "      <td>4550</td>\n",
       "      <td>Accura</td>\n",
       "      <td>RSX</td>\n",
       "      <td>2009</td>\n",
       "      <td>N</td>\n",
       "    </tr>\n",
       "  </tbody>\n",
       "</table>\n",
       "<p>5 rows × 39 columns</p>\n",
       "</div>"
      ],
      "text/plain": [
       "   months_as_customer  age  policy_number policy_bind_date policy_state  \\\n",
       "0                 328   48         521585       2014-10-17           OH   \n",
       "1                 228   42         342868       2006-06-27           IN   \n",
       "2                 134   29         687698       2000-09-06           OH   \n",
       "3                 256   41         227811       1990-05-25           IL   \n",
       "4                 228   44         367455       2014-06-06           IL   \n",
       "\n",
       "  policy_csl  policy_deductable  policy_annual_premium  umbrella_limit  \\\n",
       "0    250/500               1000                1406.91               0   \n",
       "1    250/500               2000                1197.22         5000000   \n",
       "2    100/300               2000                1413.14         5000000   \n",
       "3    250/500               2000                1415.74         6000000   \n",
       "4   500/1000               1000                1583.91         6000000   \n",
       "\n",
       "   insured_zip  ... witnesses police_report_available total_claim_amount  \\\n",
       "0       466132  ...         2                     YES              71610   \n",
       "1       468176  ...         0                       ?               5070   \n",
       "2       430632  ...         3                      NO              34650   \n",
       "3       608117  ...         2                      NO              63400   \n",
       "4       610706  ...         1                      NO               6500   \n",
       "\n",
       "  injury_claim property_claim  vehicle_claim  auto_make auto_model auto_year  \\\n",
       "0         6510          13020          52080       Saab        92x      2004   \n",
       "1          780            780           3510   Mercedes       E400      2007   \n",
       "2         7700           3850          23100      Dodge        RAM      2007   \n",
       "3         6340           6340          50720  Chevrolet      Tahoe      2014   \n",
       "4         1300            650           4550     Accura        RSX      2009   \n",
       "\n",
       "  fraud_reported  \n",
       "0              Y  \n",
       "1              Y  \n",
       "2              N  \n",
       "3              Y  \n",
       "4              N  \n",
       "\n",
       "[5 rows x 39 columns]"
      ]
     },
     "execution_count": 31,
     "metadata": {},
     "output_type": "execute_result"
    }
   ],
   "source": [
    "df.head()"
   ]
  },
  {
   "cell_type": "code",
   "execution_count": null,
   "id": "833a9cc9-d7ad-4ffd-ad76-2445568086de",
   "metadata": {},
   "outputs": [],
   "source": [
    "# Obeserve: top 5 rows by default selects"
   ]
  },
  {
   "cell_type": "code",
   "execution_count": 33,
   "id": "33256171-c074-40dd-9ce6-82f8d5da3289",
   "metadata": {},
   "outputs": [
    {
     "data": {
      "text/html": [
       "<div>\n",
       "<style scoped>\n",
       "    .dataframe tbody tr th:only-of-type {\n",
       "        vertical-align: middle;\n",
       "    }\n",
       "\n",
       "    .dataframe tbody tr th {\n",
       "        vertical-align: top;\n",
       "    }\n",
       "\n",
       "    .dataframe thead th {\n",
       "        text-align: right;\n",
       "    }\n",
       "</style>\n",
       "<table border=\"1\" class=\"dataframe\">\n",
       "  <thead>\n",
       "    <tr style=\"text-align: right;\">\n",
       "      <th></th>\n",
       "      <th>months_as_customer</th>\n",
       "      <th>age</th>\n",
       "      <th>policy_number</th>\n",
       "      <th>policy_bind_date</th>\n",
       "      <th>policy_state</th>\n",
       "      <th>policy_csl</th>\n",
       "      <th>policy_deductable</th>\n",
       "      <th>policy_annual_premium</th>\n",
       "      <th>umbrella_limit</th>\n",
       "      <th>insured_zip</th>\n",
       "      <th>...</th>\n",
       "      <th>witnesses</th>\n",
       "      <th>police_report_available</th>\n",
       "      <th>total_claim_amount</th>\n",
       "      <th>injury_claim</th>\n",
       "      <th>property_claim</th>\n",
       "      <th>vehicle_claim</th>\n",
       "      <th>auto_make</th>\n",
       "      <th>auto_model</th>\n",
       "      <th>auto_year</th>\n",
       "      <th>fraud_reported</th>\n",
       "    </tr>\n",
       "  </thead>\n",
       "  <tbody>\n",
       "    <tr>\n",
       "      <th>995</th>\n",
       "      <td>3</td>\n",
       "      <td>38</td>\n",
       "      <td>941851</td>\n",
       "      <td>1991-07-16</td>\n",
       "      <td>OH</td>\n",
       "      <td>500/1000</td>\n",
       "      <td>1000</td>\n",
       "      <td>1310.80</td>\n",
       "      <td>0</td>\n",
       "      <td>431289</td>\n",
       "      <td>...</td>\n",
       "      <td>1</td>\n",
       "      <td>?</td>\n",
       "      <td>87200</td>\n",
       "      <td>17440</td>\n",
       "      <td>8720</td>\n",
       "      <td>61040</td>\n",
       "      <td>Honda</td>\n",
       "      <td>Accord</td>\n",
       "      <td>2006</td>\n",
       "      <td>N</td>\n",
       "    </tr>\n",
       "    <tr>\n",
       "      <th>996</th>\n",
       "      <td>285</td>\n",
       "      <td>41</td>\n",
       "      <td>186934</td>\n",
       "      <td>2014-01-05</td>\n",
       "      <td>IL</td>\n",
       "      <td>100/300</td>\n",
       "      <td>1000</td>\n",
       "      <td>1436.79</td>\n",
       "      <td>0</td>\n",
       "      <td>608177</td>\n",
       "      <td>...</td>\n",
       "      <td>3</td>\n",
       "      <td>?</td>\n",
       "      <td>108480</td>\n",
       "      <td>18080</td>\n",
       "      <td>18080</td>\n",
       "      <td>72320</td>\n",
       "      <td>Volkswagen</td>\n",
       "      <td>Passat</td>\n",
       "      <td>2015</td>\n",
       "      <td>N</td>\n",
       "    </tr>\n",
       "    <tr>\n",
       "      <th>997</th>\n",
       "      <td>130</td>\n",
       "      <td>34</td>\n",
       "      <td>918516</td>\n",
       "      <td>2003-02-17</td>\n",
       "      <td>OH</td>\n",
       "      <td>250/500</td>\n",
       "      <td>500</td>\n",
       "      <td>1383.49</td>\n",
       "      <td>3000000</td>\n",
       "      <td>442797</td>\n",
       "      <td>...</td>\n",
       "      <td>3</td>\n",
       "      <td>YES</td>\n",
       "      <td>67500</td>\n",
       "      <td>7500</td>\n",
       "      <td>7500</td>\n",
       "      <td>52500</td>\n",
       "      <td>Suburu</td>\n",
       "      <td>Impreza</td>\n",
       "      <td>1996</td>\n",
       "      <td>N</td>\n",
       "    </tr>\n",
       "    <tr>\n",
       "      <th>998</th>\n",
       "      <td>458</td>\n",
       "      <td>62</td>\n",
       "      <td>533940</td>\n",
       "      <td>2011-11-18</td>\n",
       "      <td>IL</td>\n",
       "      <td>500/1000</td>\n",
       "      <td>2000</td>\n",
       "      <td>1356.92</td>\n",
       "      <td>5000000</td>\n",
       "      <td>441714</td>\n",
       "      <td>...</td>\n",
       "      <td>1</td>\n",
       "      <td>YES</td>\n",
       "      <td>46980</td>\n",
       "      <td>5220</td>\n",
       "      <td>5220</td>\n",
       "      <td>36540</td>\n",
       "      <td>Audi</td>\n",
       "      <td>A5</td>\n",
       "      <td>1998</td>\n",
       "      <td>N</td>\n",
       "    </tr>\n",
       "    <tr>\n",
       "      <th>999</th>\n",
       "      <td>456</td>\n",
       "      <td>60</td>\n",
       "      <td>556080</td>\n",
       "      <td>1996-11-11</td>\n",
       "      <td>OH</td>\n",
       "      <td>250/500</td>\n",
       "      <td>1000</td>\n",
       "      <td>766.19</td>\n",
       "      <td>0</td>\n",
       "      <td>612260</td>\n",
       "      <td>...</td>\n",
       "      <td>3</td>\n",
       "      <td>?</td>\n",
       "      <td>5060</td>\n",
       "      <td>460</td>\n",
       "      <td>920</td>\n",
       "      <td>3680</td>\n",
       "      <td>Mercedes</td>\n",
       "      <td>E400</td>\n",
       "      <td>2007</td>\n",
       "      <td>N</td>\n",
       "    </tr>\n",
       "  </tbody>\n",
       "</table>\n",
       "<p>5 rows × 39 columns</p>\n",
       "</div>"
      ],
      "text/plain": [
       "     months_as_customer  age  policy_number policy_bind_date policy_state  \\\n",
       "995                   3   38         941851       1991-07-16           OH   \n",
       "996                 285   41         186934       2014-01-05           IL   \n",
       "997                 130   34         918516       2003-02-17           OH   \n",
       "998                 458   62         533940       2011-11-18           IL   \n",
       "999                 456   60         556080       1996-11-11           OH   \n",
       "\n",
       "    policy_csl  policy_deductable  policy_annual_premium  umbrella_limit  \\\n",
       "995   500/1000               1000                1310.80               0   \n",
       "996    100/300               1000                1436.79               0   \n",
       "997    250/500                500                1383.49         3000000   \n",
       "998   500/1000               2000                1356.92         5000000   \n",
       "999    250/500               1000                 766.19               0   \n",
       "\n",
       "     insured_zip  ... witnesses police_report_available total_claim_amount  \\\n",
       "995       431289  ...         1                       ?              87200   \n",
       "996       608177  ...         3                       ?             108480   \n",
       "997       442797  ...         3                     YES              67500   \n",
       "998       441714  ...         1                     YES              46980   \n",
       "999       612260  ...         3                       ?               5060   \n",
       "\n",
       "    injury_claim property_claim  vehicle_claim   auto_make auto_model  \\\n",
       "995        17440           8720          61040       Honda     Accord   \n",
       "996        18080          18080          72320  Volkswagen     Passat   \n",
       "997         7500           7500          52500      Suburu    Impreza   \n",
       "998         5220           5220          36540        Audi         A5   \n",
       "999          460            920           3680    Mercedes       E400   \n",
       "\n",
       "    auto_year fraud_reported  \n",
       "995      2006              N  \n",
       "996      2015              N  \n",
       "997      1996              N  \n",
       "998      1998              N  \n",
       "999      2007              N  \n",
       "\n",
       "[5 rows x 39 columns]"
      ]
     },
     "execution_count": 33,
     "metadata": {},
     "output_type": "execute_result"
    }
   ],
   "source": [
    "df.tail()"
   ]
  },
  {
   "cell_type": "code",
   "execution_count": null,
   "id": "1bbb3e1a-e141-4b36-b6cf-cb578536eb59",
   "metadata": {},
   "outputs": [],
   "source": [
    "# Obeserve:  5 buttom rows by default selects"
   ]
  },
  {
   "cell_type": "markdown",
   "id": "ca830a7a-c020-4f37-bb18-c00c19eb840e",
   "metadata": {},
   "source": [
    "# Explore each column wise"
   ]
  },
  {
   "cell_type": "markdown",
   "id": "8ea40a3f-b084-4783-a659-fa0c8201b51d",
   "metadata": {},
   "source": [
    "# column 1= months_as_customer   (that means   Number of months the person has been a customer.)"
   ]
  },
  {
   "cell_type": "code",
   "execution_count": 35,
   "id": "0b677c6a-96b4-480b-ae39-c36a4a30d895",
   "metadata": {},
   "outputs": [
    {
     "data": {
      "text/plain": [
       "dtype('int64')"
      ]
     },
     "execution_count": 35,
     "metadata": {},
     "output_type": "execute_result"
    }
   ],
   "source": [
    "df[\"months_as_customer\"].dtypes"
   ]
  },
  {
   "cell_type": "code",
   "execution_count": null,
   "id": "1593d31b-f994-490e-8730-29ea70622139",
   "metadata": {},
   "outputs": [],
   "source": [
    "# Observe : this column is int Datatype,count/ discrete variable  and correct Datatypes"
   ]
  },
  {
   "cell_type": "code",
   "execution_count": 41,
   "id": "f02d0bcf-5ed4-4ac0-b727-90668561be44",
   "metadata": {},
   "outputs": [
    {
     "data": {
      "text/plain": [
       "0"
      ]
     },
     "execution_count": 41,
     "metadata": {},
     "output_type": "execute_result"
    }
   ],
   "source": [
    "df[\"months_as_customer\"].isnull().sum()"
   ]
  },
  {
   "cell_type": "code",
   "execution_count": null,
   "id": "2bc70d26-bc10-49a8-b373-ba0ff0449190",
   "metadata": {},
   "outputs": [],
   "source": [
    "# Observe : in this column there is no null value"
   ]
  },
  {
   "cell_type": "code",
   "execution_count": 59,
   "id": "0ce4cfcb-6637-4f60-b81c-b6007940bcdb",
   "metadata": {},
   "outputs": [
    {
     "data": {
      "text/plain": [
       "391"
      ]
     },
     "execution_count": 59,
     "metadata": {},
     "output_type": "execute_result"
    }
   ],
   "source": [
    "df[\"months_as_customer\"].nunique()"
   ]
  },
  {
   "cell_type": "code",
   "execution_count": null,
   "id": "a2b44e31-ddad-4f0b-bdbd-d9af2753c8d1",
   "metadata": {},
   "outputs": [],
   "source": [
    "# check the column has number of unique value"
   ]
  },
  {
   "cell_type": "markdown",
   "id": "5af5cd0f-f573-418a-b97f-43322a494f3b",
   "metadata": {},
   "source": [
    "# column 2 = \"age\""
   ]
  },
  {
   "cell_type": "code",
   "execution_count": 43,
   "id": "9a8b84f7-1771-4fdd-ba2c-38bd0a5fe5c7",
   "metadata": {},
   "outputs": [
    {
     "data": {
      "text/plain": [
       "dtype('int64')"
      ]
     },
     "execution_count": 43,
     "metadata": {},
     "output_type": "execute_result"
    }
   ],
   "source": [
    "df[\"age\"].dtypes"
   ]
  },
  {
   "cell_type": "code",
   "execution_count": null,
   "id": "4a4f2575-ae84-4fc2-9c31-d435b2466649",
   "metadata": {},
   "outputs": [],
   "source": [
    "# Observe : this column is int Datatype and correct Datatypes"
   ]
  },
  {
   "cell_type": "code",
   "execution_count": 45,
   "id": "96f2adf2-7b68-49fd-bd22-dc37ba1eec58",
   "metadata": {},
   "outputs": [
    {
     "data": {
      "text/plain": [
       "0"
      ]
     },
     "execution_count": 45,
     "metadata": {},
     "output_type": "execute_result"
    }
   ],
   "source": [
    "df[\"age\"].isnull().sum()"
   ]
  },
  {
   "cell_type": "code",
   "execution_count": null,
   "id": "164ff1d2-6014-4487-b1ae-6913cca3bef7",
   "metadata": {},
   "outputs": [],
   "source": [
    "# Observe : in this column there is no null value"
   ]
  },
  {
   "cell_type": "code",
   "execution_count": 53,
   "id": "7a4bb312-4c27-4e22-bdc3-f827741254e5",
   "metadata": {},
   "outputs": [
    {
     "data": {
      "text/plain": [
       "46"
      ]
     },
     "execution_count": 53,
     "metadata": {},
     "output_type": "execute_result"
    }
   ],
   "source": [
    "df[\"age\"].nunique()"
   ]
  },
  {
   "cell_type": "code",
   "execution_count": null,
   "id": "c62067df-db62-4d21-871c-b465c641c02f",
   "metadata": {},
   "outputs": [],
   "source": [
    "# Observe :the columns  have number of unique value"
   ]
  },
  {
   "cell_type": "markdown",
   "id": "485cd0cc-8a6c-4405-8f12-fcf8735e766d",
   "metadata": {},
   "source": [
    "# column 3= \"policy_number\"  (that means  Unique ID of the insurance policy )"
   ]
  },
  {
   "cell_type": "code",
   "execution_count": 51,
   "id": "84021142-bf18-4e39-b403-06fc71808217",
   "metadata": {},
   "outputs": [
    {
     "data": {
      "text/plain": [
       "dtype('int64')"
      ]
     },
     "execution_count": 51,
     "metadata": {},
     "output_type": "execute_result"
    }
   ],
   "source": [
    "df[\"policy_number\"].dtypes"
   ]
  },
  {
   "cell_type": "code",
   "execution_count": null,
   "id": "856bd991-277d-47af-86b7-0ec368889381",
   "metadata": {},
   "outputs": [],
   "source": [
    "# Observe : this column is int Datatype,continuous variable and correct Datatypes"
   ]
  },
  {
   "cell_type": "code",
   "execution_count": 49,
   "id": "6ef4f1dd-2625-41ba-bc68-f6c5e2fa5e4b",
   "metadata": {},
   "outputs": [
    {
     "data": {
      "text/plain": [
       "1000"
      ]
     },
     "execution_count": 49,
     "metadata": {},
     "output_type": "execute_result"
    }
   ],
   "source": [
    "df[\"policy_number\"].nunique()"
   ]
  },
  {
   "cell_type": "code",
   "execution_count": null,
   "id": "107fcfe6-a5bf-420b-a2ac-bf26031e6008",
   "metadata": {},
   "outputs": [],
   "source": [
    "# each rows has unique value (if more then 30% of the rows values unique) there is no use in the analysis)\n",
    "# simply drop them"
   ]
  },
  {
   "cell_type": "markdown",
   "id": "fa9217c5-0dca-4aa7-abf9-92abc234460e",
   "metadata": {},
   "source": [
    "# column 4 =\"policy_bind_date\"      (that means   Date when the policy was created or started.)"
   ]
  },
  {
   "cell_type": "code",
   "execution_count": 67,
   "id": "7d7ef939-db4f-4157-8408-4c85544d3a77",
   "metadata": {},
   "outputs": [
    {
     "data": {
      "text/plain": [
       "dtype('<M8[ns]')"
      ]
     },
     "execution_count": 67,
     "metadata": {},
     "output_type": "execute_result"
    }
   ],
   "source": [
    "df[\"policy_bind_date\"].dtypes"
   ]
  },
  {
   "cell_type": "code",
   "execution_count": null,
   "id": "fe003e54-750d-4dab-88a5-7618f36ad888",
   "metadata": {},
   "outputs": [],
   "source": [
    "# Observe : this column is datetime Datatype and correct Datatypes"
   ]
  },
  {
   "cell_type": "code",
   "execution_count": 63,
   "id": "2f00add8-cc01-483b-9667-a8cabcbc6fde",
   "metadata": {},
   "outputs": [
    {
     "data": {
      "text/plain": [
       "951"
      ]
     },
     "execution_count": 63,
     "metadata": {},
     "output_type": "execute_result"
    }
   ],
   "source": [
    "df[\"policy_bind_date\"].nunique()"
   ]
  },
  {
   "cell_type": "code",
   "execution_count": null,
   "id": "26f01bdf-a61c-491e-ae75-ba8c869010c3",
   "metadata": {},
   "outputs": [],
   "source": [
    "# almost each rows has unique value (if more then 30% of the rows values uni.) there is no use in the analysis)\n",
    "# simply drop them"
   ]
  },
  {
   "cell_type": "markdown",
   "id": "7b81120d-1d58-4347-a837-d3b05f046864",
   "metadata": {},
   "source": [
    "# column 5 =\"policy_state\""
   ]
  },
  {
   "cell_type": "code",
   "execution_count": 72,
   "id": "cf087300-b387-4965-8e45-7d6842c7e3cf",
   "metadata": {},
   "outputs": [
    {
     "data": {
      "text/plain": [
       "dtype('O')"
      ]
     },
     "execution_count": 72,
     "metadata": {},
     "output_type": "execute_result"
    }
   ],
   "source": [
    "df[\"policy_state\"].dtypes"
   ]
  },
  {
   "cell_type": "code",
   "execution_count": null,
   "id": "44c3f196-f50b-423b-8b60-eb57a2520a89",
   "metadata": {},
   "outputs": [],
   "source": [
    "# Observe : this column is discrete variable,object  Datatype and correct Datatypes"
   ]
  },
  {
   "cell_type": "code",
   "execution_count": 74,
   "id": "3dead6dc-7e67-4089-aa8e-0a7cd2283bac",
   "metadata": {},
   "outputs": [
    {
     "data": {
      "text/plain": [
       "policy_state\n",
       "OH    352\n",
       "IL    338\n",
       "IN    310\n",
       "Name: count, dtype: int64"
      ]
     },
     "execution_count": 74,
     "metadata": {},
     "output_type": "execute_result"
    }
   ],
   "source": [
    "df[\"policy_state\"].value_counts()"
   ]
  },
  {
   "cell_type": "code",
   "execution_count": null,
   "id": "7467149a-ea1d-4d89-8c5f-417234fffcc9",
   "metadata": {},
   "outputs": [],
   "source": [
    "# Observe : this column has three types of value OH contains more"
   ]
  },
  {
   "cell_type": "code",
   "execution_count": 76,
   "id": "212fc85b-86f7-40df-aa36-15bef9993a1a",
   "metadata": {},
   "outputs": [
    {
     "data": {
      "text/plain": [
       "0"
      ]
     },
     "execution_count": 76,
     "metadata": {},
     "output_type": "execute_result"
    }
   ],
   "source": [
    "df[\"policy_state\"].isnull().sum()"
   ]
  },
  {
   "cell_type": "code",
   "execution_count": null,
   "id": "24ac2532-9679-4278-99b4-1d206e0fbc5b",
   "metadata": {},
   "outputs": [],
   "source": [
    "# Observe : in this column there is no null value"
   ]
  },
  {
   "cell_type": "code",
   "execution_count": 78,
   "id": "23201441-9db2-4f76-9f5a-379d7090d22d",
   "metadata": {},
   "outputs": [
    {
     "data": {
      "text/plain": [
       "3"
      ]
     },
     "execution_count": 78,
     "metadata": {},
     "output_type": "execute_result"
    }
   ],
   "source": [
    "df[\"policy_state\"].nunique()"
   ]
  },
  {
   "cell_type": "code",
   "execution_count": null,
   "id": "02947268-9636-42b0-9430-9f0b8d065efd",
   "metadata": {},
   "outputs": [],
   "source": [
    "# Observe : this column has three types of value  contains"
   ]
  },
  {
   "cell_type": "markdown",
   "id": "b45bc18f-dba1-4977-9b43-6db5bf28913c",
   "metadata": {},
   "source": [
    "# column 6= \"policy_csl\"    that means  Combined single limit for bodily injury/property damage"
   ]
  },
  {
   "cell_type": "code",
   "execution_count": 84,
   "id": "4e01c64c-30ca-44e7-ae75-f685e18ac530",
   "metadata": {},
   "outputs": [
    {
     "data": {
      "text/plain": [
       "dtype('O')"
      ]
     },
     "execution_count": 84,
     "metadata": {},
     "output_type": "execute_result"
    }
   ],
   "source": [
    "df[\"policy_csl\"].dtypes"
   ]
  },
  {
   "cell_type": "code",
   "execution_count": null,
   "id": "f572383d-e61e-4250-a308-0177d024f6a3",
   "metadata": {},
   "outputs": [],
   "source": [
    "# Observe : this column is discrete variable,object  Datatype and correct Datatypes"
   ]
  },
  {
   "cell_type": "code",
   "execution_count": 86,
   "id": "6ad677ad-3188-4609-b27c-886c13e165f3",
   "metadata": {},
   "outputs": [
    {
     "data": {
      "text/plain": [
       "policy_csl\n",
       "250/500     351\n",
       "100/300     349\n",
       "500/1000    300\n",
       "Name: count, dtype: int64"
      ]
     },
     "execution_count": 86,
     "metadata": {},
     "output_type": "execute_result"
    }
   ],
   "source": [
    "df[\"policy_csl\"].value_counts()"
   ]
  },
  {
   "cell_type": "code",
   "execution_count": null,
   "id": "4b2ae484-04c9-4aaf-92ff-49f490bcaf69",
   "metadata": {},
   "outputs": [],
   "source": [
    "# Observe : this column has three types of value 250/500 contains more"
   ]
  },
  {
   "cell_type": "code",
   "execution_count": 88,
   "id": "1c96b22a-c571-4670-8796-c0f5e733dfe7",
   "metadata": {},
   "outputs": [
    {
     "data": {
      "text/plain": [
       "0"
      ]
     },
     "execution_count": 88,
     "metadata": {},
     "output_type": "execute_result"
    }
   ],
   "source": [
    "df[\"policy_csl\"].isnull().sum()"
   ]
  },
  {
   "cell_type": "code",
   "execution_count": null,
   "id": "9811aaa9-ab8f-49bf-ae65-4c45fcc8c722",
   "metadata": {},
   "outputs": [],
   "source": [
    "# Observe : in this column there is no null value"
   ]
  },
  {
   "cell_type": "markdown",
   "id": "9feb3355-b461-4957-a84f-a9c14a9daabb",
   "metadata": {},
   "source": [
    "# column 7=\"policy_deductable\"  (that means \tThe deductible amount to be paid by the policyholder.)"
   ]
  },
  {
   "cell_type": "code",
   "execution_count": 92,
   "id": "c98f697f-4772-44ff-9f5a-13a3acc4a359",
   "metadata": {},
   "outputs": [
    {
     "data": {
      "text/plain": [
       "dtype('int64')"
      ]
     },
     "execution_count": 92,
     "metadata": {},
     "output_type": "execute_result"
    }
   ],
   "source": [
    "df[\"policy_deductable\"].dtypes"
   ]
  },
  {
   "cell_type": "code",
   "execution_count": null,
   "id": "8d329c52-7b6a-480e-9f3e-b075a5002fc9",
   "metadata": {},
   "outputs": [],
   "source": [
    "# Observe : this column is int Datatype,count/discrete variable and correct Datatypes"
   ]
  },
  {
   "cell_type": "code",
   "execution_count": 94,
   "id": "d74e6734-76bc-4940-8fe5-7a6a0174f3d8",
   "metadata": {},
   "outputs": [
    {
     "data": {
      "text/plain": [
       "0"
      ]
     },
     "execution_count": 94,
     "metadata": {},
     "output_type": "execute_result"
    }
   ],
   "source": [
    "df[\"policy_deductable\"].isnull().sum()"
   ]
  },
  {
   "cell_type": "code",
   "execution_count": null,
   "id": "a4a2663d-64b1-440d-9f3d-afd91805e109",
   "metadata": {},
   "outputs": [],
   "source": [
    "# Observe : in this column there is no null value"
   ]
  },
  {
   "cell_type": "code",
   "execution_count": 120,
   "id": "478b0cfb-e7f3-4820-aeb9-a4d465b29aaf",
   "metadata": {},
   "outputs": [
    {
     "data": {
      "text/plain": [
       "array([1000, 2000,  500], dtype=int64)"
      ]
     },
     "execution_count": 120,
     "metadata": {},
     "output_type": "execute_result"
    }
   ],
   "source": [
    "df[\"policy_deductable\"].unique()"
   ]
  },
  {
   "cell_type": "code",
   "execution_count": null,
   "id": "a88fb202-4a72-4c70-886a-4d01955e223e",
   "metadata": {},
   "outputs": [],
   "source": [
    "# Observe : this column has three types of value  contains"
   ]
  },
  {
   "cell_type": "code",
   "execution_count": 18,
   "id": "ae7ea03b-9651-49f2-9ffd-102ee19a92c7",
   "metadata": {},
   "outputs": [
    {
     "data": {
      "text/plain": [
       "policy_deductable\n",
       "1000    351\n",
       "500     342\n",
       "2000    307\n",
       "Name: count, dtype: int64"
      ]
     },
     "execution_count": 18,
     "metadata": {},
     "output_type": "execute_result"
    }
   ],
   "source": [
    "df[\"policy_deductable\"].value_counts()"
   ]
  },
  {
   "cell_type": "code",
   "execution_count": 20,
   "id": "91d7a574-6aab-4587-a111-167ddd45f694",
   "metadata": {},
   "outputs": [],
   "source": [
    "# Observe : this column has three types of value 1000 contains more"
   ]
  },
  {
   "cell_type": "markdown",
   "id": "afe4d67b-a4cf-4672-b6e8-f70f3f577f15",
   "metadata": {},
   "source": [
    "# column 8= \"policy_annual_premium\"    (Yearly premium paid by the insured person)"
   ]
  },
  {
   "cell_type": "code",
   "execution_count": 98,
   "id": "37d33abc-77e9-4ffc-8ae2-d50553f3f9b9",
   "metadata": {},
   "outputs": [
    {
     "data": {
      "text/plain": [
       "dtype('float64')"
      ]
     },
     "execution_count": 98,
     "metadata": {},
     "output_type": "execute_result"
    }
   ],
   "source": [
    "df[\"policy_annual_premium\"].dtypes"
   ]
  },
  {
   "cell_type": "code",
   "execution_count": null,
   "id": "9bd8471c-9b36-4e1b-88b9-0d4013f0b443",
   "metadata": {},
   "outputs": [],
   "source": [
    "# Observe : this column is float Datatype,continuous variable and correct Datatypes"
   ]
  },
  {
   "cell_type": "code",
   "execution_count": 100,
   "id": "469f5d54-42c2-49e2-a63d-b9b146b50ed4",
   "metadata": {},
   "outputs": [
    {
     "data": {
      "text/plain": [
       "0"
      ]
     },
     "execution_count": 100,
     "metadata": {},
     "output_type": "execute_result"
    }
   ],
   "source": [
    "df[\"policy_annual_premium\"].isnull().sum()"
   ]
  },
  {
   "cell_type": "code",
   "execution_count": null,
   "id": "2933d0cc-e26f-440d-8cdc-b6a3e4fce5c1",
   "metadata": {},
   "outputs": [],
   "source": [
    "# Observe : in this column there is no null value"
   ]
  },
  {
   "cell_type": "code",
   "execution_count": 126,
   "id": "4bc2c4ec-2c4e-4f88-9f82-c3ac01cbd765",
   "metadata": {},
   "outputs": [
    {
     "data": {
      "text/plain": [
       "991"
      ]
     },
     "execution_count": 126,
     "metadata": {},
     "output_type": "execute_result"
    }
   ],
   "source": [
    "df[\"policy_annual_premium\"].nunique()"
   ]
  },
  {
   "cell_type": "code",
   "execution_count": null,
   "id": "28512347-c1e2-4e01-a027-e133c86ed678",
   "metadata": {},
   "outputs": [],
   "source": [
    "# observe : - almost each rows have unique value but this is impact the analysis  so not drop them"
   ]
  },
  {
   "cell_type": "markdown",
   "id": "8f982f8d-18ff-45e8-83ff-53ccad683948",
   "metadata": {},
   "source": [
    "# column 9= \"umbrella_limit\"   (Extra liability coverage beyond regular policy limits)"
   ]
  },
  {
   "cell_type": "code",
   "execution_count": 108,
   "id": "3cc2a2ac-a9d1-495a-ac81-613c913472bc",
   "metadata": {},
   "outputs": [
    {
     "data": {
      "text/plain": [
       "dtype('int64')"
      ]
     },
     "execution_count": 108,
     "metadata": {},
     "output_type": "execute_result"
    }
   ],
   "source": [
    "df[\"umbrella_limit\"].dtypes"
   ]
  },
  {
   "cell_type": "code",
   "execution_count": null,
   "id": "4a7ef788-bddf-404b-a234-1ea06f97ae5d",
   "metadata": {},
   "outputs": [],
   "source": [
    "# Observe : this column is int Datatype,continuous variable and correct Datatypes"
   ]
  },
  {
   "cell_type": "code",
   "execution_count": 110,
   "id": "1ee134f2-6395-411e-a79a-16b5ac651fa3",
   "metadata": {},
   "outputs": [
    {
     "data": {
      "text/plain": [
       "0"
      ]
     },
     "execution_count": 110,
     "metadata": {},
     "output_type": "execute_result"
    }
   ],
   "source": [
    "df[\"umbrella_limit\"].isnull().sum()"
   ]
  },
  {
   "cell_type": "code",
   "execution_count": null,
   "id": "917bfb61-2c88-4698-ad44-bc5fe20c9793",
   "metadata": {},
   "outputs": [],
   "source": [
    "# Observe : in this column there is no null value"
   ]
  },
  {
   "cell_type": "code",
   "execution_count": 116,
   "id": "1a8c146c-23ba-4cf4-8e34-fe6e9d861555",
   "metadata": {},
   "outputs": [
    {
     "data": {
      "text/plain": [
       "umbrella_limit\n",
       " 0           798\n",
       " 6000000      57\n",
       " 5000000      46\n",
       " 4000000      39\n",
       " 7000000      29\n",
       " 3000000      12\n",
       " 8000000       8\n",
       " 9000000       5\n",
       " 2000000       3\n",
       " 10000000      2\n",
       "-1000000       1\n",
       "Name: count, dtype: int64"
      ]
     },
     "execution_count": 116,
     "metadata": {},
     "output_type": "execute_result"
    }
   ],
   "source": [
    "df[\"umbrella_limit\"].value_counts()"
   ]
  },
  {
   "cell_type": "code",
   "execution_count": null,
   "id": "95199a79-72b4-47d6-a89a-45752f34419b",
   "metadata": {},
   "outputs": [],
   "source": [
    "# observe : - there is one value in incorrect format "
   ]
  },
  {
   "cell_type": "markdown",
   "id": "4e01781d-e542-4dc3-8b75-c23f728aaff6",
   "metadata": {},
   "source": [
    "# column 10= \"insured_zip\"  (ZIP code of the insured person (very high cardinality))"
   ]
  },
  {
   "cell_type": "code",
   "execution_count": 130,
   "id": "465c57da-d5ec-4785-b313-28c97b6a1c6a",
   "metadata": {},
   "outputs": [
    {
     "data": {
      "text/plain": [
       "dtype('int64')"
      ]
     },
     "execution_count": 130,
     "metadata": {},
     "output_type": "execute_result"
    }
   ],
   "source": [
    "df[\"insured_zip\"].dtypes"
   ]
  },
  {
   "cell_type": "code",
   "execution_count": null,
   "id": "fc038886-623e-479e-a276-c5827bc1f98d",
   "metadata": {},
   "outputs": [],
   "source": [
    "# Observe : this column is int Datatype,continuous variable and correct Datatypes"
   ]
  },
  {
   "cell_type": "code",
   "execution_count": 136,
   "id": "2d683f20-7a2c-4aac-9269-41e005e8a72f",
   "metadata": {},
   "outputs": [
    {
     "data": {
      "text/plain": [
       "995"
      ]
     },
     "execution_count": 136,
     "metadata": {},
     "output_type": "execute_result"
    }
   ],
   "source": [
    "df[\"insured_zip\"].unique()"
   ]
  },
  {
   "cell_type": "code",
   "execution_count": null,
   "id": "7fc3592e-21a3-42ba-9438-56f9521496c2",
   "metadata": {},
   "outputs": [],
   "source": [
    "# Nearly unique; adds little value unless regional analysis so that simply drop them"
   ]
  },
  {
   "cell_type": "code",
   "execution_count": 224,
   "id": "4d0eb1e8-fbce-4036-81e9-3fdeb3f2adc7",
   "metadata": {},
   "outputs": [],
   "source": [
    "pd.set_option('display.max_columns', None)\n",
    "#  observe : - show all rows and columns"
   ]
  },
  {
   "cell_type": "markdown",
   "id": "7e09ece0-b6f9-44cd-a812-3073b4535c48",
   "metadata": {},
   "source": [
    "# columns 11=\"insured_sex\"   (Gender of the insured person (MALE/FEMALE))"
   ]
  },
  {
   "cell_type": "code",
   "execution_count": 276,
   "id": "ff4bc925-601e-4c06-bd5a-e8a8654cb4a5",
   "metadata": {},
   "outputs": [
    {
     "data": {
      "text/plain": [
       "dtype('O')"
      ]
     },
     "execution_count": 276,
     "metadata": {},
     "output_type": "execute_result"
    }
   ],
   "source": [
    "df[\"insured_sex\"].dtypes"
   ]
  },
  {
   "cell_type": "code",
   "execution_count": null,
   "id": "f06eadb6-2d4d-4c98-bf4b-5015ab33de20",
   "metadata": {},
   "outputs": [],
   "source": [
    "# Observe : this column is object  Datatype discrete variable  and correct Datatypes"
   ]
  },
  {
   "cell_type": "code",
   "execution_count": 228,
   "id": "69781f55-9f9d-4a62-ab20-2beef05c54ef",
   "metadata": {},
   "outputs": [
    {
     "data": {
      "text/plain": [
       "insured_sex\n",
       "FEMALE    537\n",
       "MALE      463\n",
       "Name: count, dtype: int64"
      ]
     },
     "execution_count": 228,
     "metadata": {},
     "output_type": "execute_result"
    }
   ],
   "source": [
    "df[\"insured_sex\"].value_counts()"
   ]
  },
  {
   "cell_type": "code",
   "execution_count": null,
   "id": "47662964-67e6-4212-aa6f-69fac924462d",
   "metadata": {},
   "outputs": [],
   "source": [
    "# Observe : this column has FEMALE value  contains MORE"
   ]
  },
  {
   "cell_type": "code",
   "execution_count": 230,
   "id": "34b3969d-e6a9-41fc-81e7-e4e1642594e0",
   "metadata": {},
   "outputs": [
    {
     "data": {
      "text/plain": [
       "0"
      ]
     },
     "execution_count": 230,
     "metadata": {},
     "output_type": "execute_result"
    }
   ],
   "source": [
    "df[\"insured_sex\"].isnull().sum()"
   ]
  },
  {
   "cell_type": "code",
   "execution_count": null,
   "id": "aa9743fc-bc9a-432c-9158-5b7a3792a6e4",
   "metadata": {},
   "outputs": [],
   "source": [
    "# Observe : in this column there is no null value"
   ]
  },
  {
   "cell_type": "code",
   "execution_count": 232,
   "id": "8620834a-ddcc-4447-bfd8-46e0d383385c",
   "metadata": {},
   "outputs": [
    {
     "data": {
      "text/plain": [
       "array(['MALE', 'FEMALE'], dtype=object)"
      ]
     },
     "execution_count": 232,
     "metadata": {},
     "output_type": "execute_result"
    }
   ],
   "source": [
    "df[\"insured_sex\"].unique()"
   ]
  },
  {
   "cell_type": "code",
   "execution_count": null,
   "id": "22216123-7a00-4885-8fa7-fe478d3206bc",
   "metadata": {},
   "outputs": [],
   "source": [
    "# this columns contains 2 type"
   ]
  },
  {
   "cell_type": "markdown",
   "id": "3c682ced-c00a-4198-b017-a9b10d6c4873",
   "metadata": {},
   "source": [
    "# column 12 =\"insured_education_level\"   (Highest education level of the insured)"
   ]
  },
  {
   "cell_type": "code",
   "execution_count": 234,
   "id": "7c0a70cd-2422-42b9-97f1-ee8f78dc3d91",
   "metadata": {},
   "outputs": [
    {
     "data": {
      "text/plain": [
       "dtype('O')"
      ]
     },
     "execution_count": 234,
     "metadata": {},
     "output_type": "execute_result"
    }
   ],
   "source": [
    "df[\"insured_education_level\"].dtypes"
   ]
  },
  {
   "cell_type": "code",
   "execution_count": null,
   "id": "9e1cfbbd-3314-4325-b1f3-aa167f882dfd",
   "metadata": {},
   "outputs": [],
   "source": [
    "# Observe : this column is object Datatype discrete variable  and correct Datatypes"
   ]
  },
  {
   "cell_type": "code",
   "execution_count": 236,
   "id": "c04d9444-f3bf-4b19-bed2-949a0fc1ec28",
   "metadata": {},
   "outputs": [
    {
     "data": {
      "text/plain": [
       "insured_education_level\n",
       "JD             161\n",
       "High School    160\n",
       "Associate      145\n",
       "MD             144\n",
       "Masters        143\n",
       "PhD            125\n",
       "College        122\n",
       "Name: count, dtype: int64"
      ]
     },
     "execution_count": 236,
     "metadata": {},
     "output_type": "execute_result"
    }
   ],
   "source": [
    "df[\"insured_education_level\"].value_counts()"
   ]
  },
  {
   "cell_type": "code",
   "execution_count": null,
   "id": "0f93a322-353b-4559-bef1-e9caddc2cf9a",
   "metadata": {},
   "outputs": [],
   "source": [
    "# Observe : this column have JD  value  contains MORE"
   ]
  },
  {
   "cell_type": "code",
   "execution_count": 238,
   "id": "1f530655-c529-461c-88bf-8010b5939d9b",
   "metadata": {},
   "outputs": [
    {
     "data": {
      "text/plain": [
       "0"
      ]
     },
     "execution_count": 238,
     "metadata": {},
     "output_type": "execute_result"
    }
   ],
   "source": [
    "df[\"insured_education_level\"].isnull().sum()"
   ]
  },
  {
   "cell_type": "code",
   "execution_count": null,
   "id": "7a3e873c-0098-47ee-8450-d0328c771d71",
   "metadata": {},
   "outputs": [],
   "source": [
    "# Observe : in this column there is no null value"
   ]
  },
  {
   "cell_type": "code",
   "execution_count": 242,
   "id": "f2a53afd-ca9b-473f-ab5b-4d9d6ba7ee83",
   "metadata": {},
   "outputs": [
    {
     "data": {
      "text/plain": [
       "7"
      ]
     },
     "execution_count": 242,
     "metadata": {},
     "output_type": "execute_result"
    }
   ],
   "source": [
    "df[\"insured_education_level\"].nunique()"
   ]
  },
  {
   "cell_type": "code",
   "execution_count": null,
   "id": "3cd986bf-ca59-47c6-8cf2-1a39aaef301b",
   "metadata": {},
   "outputs": [],
   "source": [
    "# this columns contains 7 type"
   ]
  },
  {
   "cell_type": "markdown",
   "id": "dddd34e7-ec94-42ca-a6aa-37edc76011f2",
   "metadata": {},
   "source": [
    "# column 13=\"insured_occupation\"     (Job type of the insured )"
   ]
  },
  {
   "cell_type": "code",
   "execution_count": 248,
   "id": "888b189e-611f-4ba8-bf07-6cd8c7e3b419",
   "metadata": {},
   "outputs": [
    {
     "data": {
      "text/plain": [
       "dtype('O')"
      ]
     },
     "execution_count": 248,
     "metadata": {},
     "output_type": "execute_result"
    }
   ],
   "source": [
    "df[\"insured_occupation\"].dtypes"
   ]
  },
  {
   "cell_type": "code",
   "execution_count": null,
   "id": "91958205-da3e-4736-8ddc-300638f356f2",
   "metadata": {},
   "outputs": [],
   "source": [
    "# Observe : this column is object Datatype discrete variable  and correct Datatypes"
   ]
  },
  {
   "cell_type": "code",
   "execution_count": 246,
   "id": "f8bfd3fc-e1b7-43a7-8cd4-f762dba095d1",
   "metadata": {},
   "outputs": [
    {
     "data": {
      "text/plain": [
       "insured_occupation\n",
       "machine-op-inspct    93\n",
       "prof-specialty       85\n",
       "tech-support         78\n",
       "sales                76\n",
       "exec-managerial      76\n",
       "craft-repair         74\n",
       "transport-moving     72\n",
       "other-service        71\n",
       "priv-house-serv      71\n",
       "armed-forces         69\n",
       "adm-clerical         65\n",
       "protective-serv      63\n",
       "handlers-cleaners    54\n",
       "farming-fishing      53\n",
       "Name: count, dtype: int64"
      ]
     },
     "execution_count": 246,
     "metadata": {},
     "output_type": "execute_result"
    }
   ],
   "source": [
    "df[\"insured_occupation\"].value_counts()"
   ]
  },
  {
   "cell_type": "code",
   "execution_count": null,
   "id": "b8c649c7-03bb-4234-b707-a8faf0ee58c4",
   "metadata": {},
   "outputs": [],
   "source": [
    "# Observe : this column have machine-op-inspct  value  contains MORE"
   ]
  },
  {
   "cell_type": "code",
   "execution_count": 244,
   "id": "12c1222d-de4b-4095-bb34-bc44df77c269",
   "metadata": {},
   "outputs": [
    {
     "data": {
      "text/plain": [
       "0"
      ]
     },
     "execution_count": 244,
     "metadata": {},
     "output_type": "execute_result"
    }
   ],
   "source": [
    "df[\"insured_occupation\"].isnull().sum()"
   ]
  },
  {
   "cell_type": "code",
   "execution_count": null,
   "id": "c6843df2-fb68-4d1c-a5a6-788f377b1f48",
   "metadata": {},
   "outputs": [],
   "source": [
    "# Observe : in this column there is no null value"
   ]
  },
  {
   "cell_type": "code",
   "execution_count": 250,
   "id": "eafcaaa9-8c99-468d-8552-84031a697e8c",
   "metadata": {},
   "outputs": [
    {
     "data": {
      "text/plain": [
       "14"
      ]
     },
     "execution_count": 250,
     "metadata": {},
     "output_type": "execute_result"
    }
   ],
   "source": [
    "df[\"insured_occupation\"].nunique()"
   ]
  },
  {
   "cell_type": "code",
   "execution_count": null,
   "id": "ef7c5d3c-a000-4ef4-915c-25ca8c02f8d7",
   "metadata": {},
   "outputs": [],
   "source": [
    "# this columns contains 14 type"
   ]
  },
  {
   "cell_type": "markdown",
   "id": "371e4369-8a4a-4427-9fb7-4f062bc2c986",
   "metadata": {},
   "source": [
    "# column 14 = \"insured_hobbies\"       (\tListed hobbies of the insured person)"
   ]
  },
  {
   "cell_type": "code",
   "execution_count": 262,
   "id": "af8f3906-48c9-4c64-8e7f-c00027ebaa7f",
   "metadata": {},
   "outputs": [
    {
     "data": {
      "text/plain": [
       "dtype('O')"
      ]
     },
     "execution_count": 262,
     "metadata": {},
     "output_type": "execute_result"
    }
   ],
   "source": [
    "df[\"insured_hobbies\"].dtypes"
   ]
  },
  {
   "cell_type": "code",
   "execution_count": null,
   "id": "d77a9692-d346-4622-b206-bfc4f93d4637",
   "metadata": {},
   "outputs": [],
   "source": [
    "# Observe : this column is object Datatype discrete variable  and correct Datatypes"
   ]
  },
  {
   "cell_type": "code",
   "execution_count": 264,
   "id": "23e60277-6bbc-448b-bf0a-636c472a2ddb",
   "metadata": {},
   "outputs": [
    {
     "data": {
      "text/plain": [
       "insured_hobbies\n",
       "reading           64\n",
       "exercise          57\n",
       "paintball         57\n",
       "bungie-jumping    56\n",
       "movies            55\n",
       "golf              55\n",
       "camping           55\n",
       "kayaking          54\n",
       "yachting          53\n",
       "hiking            52\n",
       "video-games       50\n",
       "skydiving         49\n",
       "base-jumping      49\n",
       "board-games       48\n",
       "polo              47\n",
       "chess             46\n",
       "dancing           43\n",
       "sleeping          41\n",
       "cross-fit         35\n",
       "basketball        34\n",
       "Name: count, dtype: int64"
      ]
     },
     "execution_count": 264,
     "metadata": {},
     "output_type": "execute_result"
    }
   ],
   "source": [
    "df[\"insured_hobbies\"].value_counts()"
   ]
  },
  {
   "cell_type": "code",
   "execution_count": null,
   "id": "ce380e99-c1ee-4460-a088-62dcaf7d1221",
   "metadata": {},
   "outputs": [],
   "source": [
    "# Observe : this column have reading value  contains MORE"
   ]
  },
  {
   "cell_type": "code",
   "execution_count": 254,
   "id": "c83c1acd-6cc6-48a5-9304-08ef9cab5118",
   "metadata": {},
   "outputs": [
    {
     "data": {
      "text/plain": [
       "0"
      ]
     },
     "execution_count": 254,
     "metadata": {},
     "output_type": "execute_result"
    }
   ],
   "source": [
    "df[\"insured_hobbies\"].isnull().sum()"
   ]
  },
  {
   "cell_type": "code",
   "execution_count": null,
   "id": "2936cee2-3f05-482e-9650-7af3e82043b1",
   "metadata": {},
   "outputs": [],
   "source": [
    "# Observe : in this column there is no null value"
   ]
  },
  {
   "cell_type": "code",
   "execution_count": 260,
   "id": "9014fceb-4913-4a02-ac8d-ac112c6cf540",
   "metadata": {},
   "outputs": [
    {
     "data": {
      "text/plain": [
       "20"
      ]
     },
     "execution_count": 260,
     "metadata": {},
     "output_type": "execute_result"
    }
   ],
   "source": [
    "df[\"insured_hobbies\"].nunique()"
   ]
  },
  {
   "cell_type": "code",
   "execution_count": null,
   "id": "bb820ed0-af8b-495d-8478-126b0759bb34",
   "metadata": {},
   "outputs": [],
   "source": [
    "# this columns contains 20 type"
   ]
  },
  {
   "cell_type": "markdown",
   "id": "4345879f-5cbe-4410-9d1f-1480d5fb37bb",
   "metadata": {},
   "source": [
    "# column 15=  \"insured_relationship\"     (Relationship of the insured person in the household)"
   ]
  },
  {
   "cell_type": "code",
   "execution_count": 268,
   "id": "8bad1c9c-afe1-4dc2-a41f-0ac00371267e",
   "metadata": {},
   "outputs": [
    {
     "data": {
      "text/plain": [
       "dtype('O')"
      ]
     },
     "execution_count": 268,
     "metadata": {},
     "output_type": "execute_result"
    }
   ],
   "source": [
    "df[\"insured_relationship\"].dtypes"
   ]
  },
  {
   "cell_type": "code",
   "execution_count": null,
   "id": "b1cd8924-540a-4fb7-ad09-1772ee0d461c",
   "metadata": {},
   "outputs": [],
   "source": [
    "# Observe : this column is object Datatype discrete variable  and correct Datatypes"
   ]
  },
  {
   "cell_type": "code",
   "execution_count": 270,
   "id": "bf3d590b-7b7c-4c20-b44b-8d41e3d3e912",
   "metadata": {},
   "outputs": [
    {
     "data": {
      "text/plain": [
       "insured_relationship\n",
       "own-child         183\n",
       "other-relative    177\n",
       "not-in-family     174\n",
       "husband           170\n",
       "wife              155\n",
       "unmarried         141\n",
       "Name: count, dtype: int64"
      ]
     },
     "execution_count": 270,
     "metadata": {},
     "output_type": "execute_result"
    }
   ],
   "source": [
    "df[\"insured_relationship\"].value_counts()"
   ]
  },
  {
   "cell_type": "code",
   "execution_count": null,
   "id": "9068784b-dbdc-41d4-91b9-e3bf0559bb00",
   "metadata": {},
   "outputs": [],
   "source": [
    "# Observe : this column have own-child value  contains MORE"
   ]
  },
  {
   "cell_type": "code",
   "execution_count": 272,
   "id": "54b8835e-8c88-417f-a765-828c4feca998",
   "metadata": {},
   "outputs": [
    {
     "data": {
      "text/plain": [
       "0"
      ]
     },
     "execution_count": 272,
     "metadata": {},
     "output_type": "execute_result"
    }
   ],
   "source": [
    "df[\"insured_relationship\"].isnull().sum()"
   ]
  },
  {
   "cell_type": "code",
   "execution_count": null,
   "id": "5b6101f3-826a-400b-8e62-1540380008be",
   "metadata": {},
   "outputs": [],
   "source": [
    "# Observe : in this column there is no null value"
   ]
  },
  {
   "cell_type": "code",
   "execution_count": 278,
   "id": "40ef9180-08af-480b-8af7-93ba6264e126",
   "metadata": {},
   "outputs": [
    {
     "data": {
      "text/plain": [
       "6"
      ]
     },
     "execution_count": 278,
     "metadata": {},
     "output_type": "execute_result"
    }
   ],
   "source": [
    "df[\"insured_relationship\"].nunique()"
   ]
  },
  {
   "cell_type": "code",
   "execution_count": null,
   "id": "ee8fb862-0904-4285-9fa3-5cbe95b4c165",
   "metadata": {},
   "outputs": [],
   "source": [
    "# this columns contains 6 type"
   ]
  },
  {
   "cell_type": "markdown",
   "id": "07a19a07-6790-4a03-a3ac-e808b5f1631a",
   "metadata": {},
   "source": [
    "# column 16= \"capital-gains\"      (Income gained from capital assets)"
   ]
  },
  {
   "cell_type": "code",
   "execution_count": 280,
   "id": "fdb118f4-0e1f-4822-bd0c-100e069a7f38",
   "metadata": {},
   "outputs": [
    {
     "data": {
      "text/plain": [
       "dtype('int64')"
      ]
     },
     "execution_count": 280,
     "metadata": {},
     "output_type": "execute_result"
    }
   ],
   "source": [
    "df[\"capital-gains\"].dtypes"
   ]
  },
  {
   "cell_type": "code",
   "execution_count": null,
   "id": "39ea9db5-0825-416f-be72-0b9c62c4768c",
   "metadata": {},
   "outputs": [],
   "source": [
    "# Observe : this column is int Datatype,continuous variable and correct Datatypes"
   ]
  },
  {
   "cell_type": "code",
   "execution_count": 282,
   "id": "58545114-0345-474f-a998-0feee9e2a8a9",
   "metadata": {},
   "outputs": [
    {
     "data": {
      "text/plain": [
       "0"
      ]
     },
     "execution_count": 282,
     "metadata": {},
     "output_type": "execute_result"
    }
   ],
   "source": [
    "df[\"capital-gains\"].isnull().sum()"
   ]
  },
  {
   "cell_type": "code",
   "execution_count": null,
   "id": "7e2658df-a442-454c-a7c3-5bdc9b9760f8",
   "metadata": {},
   "outputs": [],
   "source": [
    "# Observe : in this column there is no null value"
   ]
  },
  {
   "cell_type": "markdown",
   "id": "1e1f701d-c97d-4965-b84d-7616d1616902",
   "metadata": {},
   "source": [
    "# column 17=\"capital-loss\""
   ]
  },
  {
   "cell_type": "code",
   "execution_count": 284,
   "id": "e3de8f5f-d243-4192-8664-3d4c5588b363",
   "metadata": {},
   "outputs": [
    {
     "data": {
      "text/plain": [
       "dtype('int64')"
      ]
     },
     "execution_count": 284,
     "metadata": {},
     "output_type": "execute_result"
    }
   ],
   "source": [
    "df[\"capital-loss\"].dtypes"
   ]
  },
  {
   "cell_type": "code",
   "execution_count": null,
   "id": "776e38c3-c32d-4770-87ca-854ac5241529",
   "metadata": {},
   "outputs": [],
   "source": [
    "# Observe : this column is int Datatype,continuous variable and correct Datatypes"
   ]
  },
  {
   "cell_type": "code",
   "execution_count": null,
   "id": "c9ff665c-546b-43ff-b433-b0a29b714947",
   "metadata": {},
   "outputs": [],
   "source": [
    "df[\"capital-loss\"].isnull().sum()"
   ]
  },
  {
   "cell_type": "code",
   "execution_count": null,
   "id": "86552e4e-05d0-43e9-95f5-8d5bc21afc58",
   "metadata": {},
   "outputs": [],
   "source": [
    "# Observe : in this column there is no null value"
   ]
  },
  {
   "cell_type": "markdown",
   "id": "1220e85e-8e20-4e81-a563-59e7da0761a0",
   "metadata": {},
   "source": [
    "# column 18 = \"incident_date\"  "
   ]
  },
  {
   "cell_type": "code",
   "execution_count": 286,
   "id": "c856b0a8-d22e-4b23-bd55-524100550be8",
   "metadata": {},
   "outputs": [
    {
     "data": {
      "text/plain": [
       "dtype('<M8[ns]')"
      ]
     },
     "execution_count": 286,
     "metadata": {},
     "output_type": "execute_result"
    }
   ],
   "source": [
    "df[\"incident_date\"].dtypes"
   ]
  },
  {
   "cell_type": "code",
   "execution_count": null,
   "id": "d6d468a9-b262-4ec3-a69b-1bf92102782b",
   "metadata": {},
   "outputs": [],
   "source": [
    "# Observe : this column is int Date time ,time series variable and correct Datatypes"
   ]
  },
  {
   "cell_type": "code",
   "execution_count": 290,
   "id": "03d43dce-d8e1-4454-a26a-39269529bc6f",
   "metadata": {},
   "outputs": [
    {
     "data": {
      "text/plain": [
       "0"
      ]
     },
     "execution_count": 290,
     "metadata": {},
     "output_type": "execute_result"
    }
   ],
   "source": [
    "df[\"incident_date\"].isnull().sum()"
   ]
  },
  {
   "cell_type": "code",
   "execution_count": null,
   "id": "16ef5e97-97b7-4764-976f-d6120223fdce",
   "metadata": {},
   "outputs": [],
   "source": [
    "# Observe : in this column there is no null value"
   ]
  },
  {
   "cell_type": "markdown",
   "id": "a0bf882e-0468-4260-a611-9114e70d09e8",
   "metadata": {},
   "source": [
    "# column 19=\"incident_type\""
   ]
  },
  {
   "cell_type": "code",
   "execution_count": 292,
   "id": "0bdcd55c-0f31-4558-a21a-a97eb5cf073f",
   "metadata": {},
   "outputs": [
    {
     "data": {
      "text/plain": [
       "dtype('O')"
      ]
     },
     "execution_count": 292,
     "metadata": {},
     "output_type": "execute_result"
    }
   ],
   "source": [
    "df[\"incident_type\"].dtypes"
   ]
  },
  {
   "cell_type": "code",
   "execution_count": null,
   "id": "747ae2ce-2cd5-43c6-870f-61c8fc4d649a",
   "metadata": {},
   "outputs": [],
   "source": [
    "# Observe : this column is object Datatype discrete variable  and correct Datatypes"
   ]
  },
  {
   "cell_type": "code",
   "execution_count": 294,
   "id": "d5910808-fe56-4db0-ad15-a98c9314e618",
   "metadata": {},
   "outputs": [
    {
     "data": {
      "text/plain": [
       "0"
      ]
     },
     "execution_count": 294,
     "metadata": {},
     "output_type": "execute_result"
    }
   ],
   "source": [
    "df[\"incident_type\"].isnull().sum()"
   ]
  },
  {
   "cell_type": "code",
   "execution_count": null,
   "id": "6f98ef7f-7568-43e3-aa25-fb451bf358ca",
   "metadata": {},
   "outputs": [],
   "source": [
    "# Observe : in this column there is no null value"
   ]
  },
  {
   "cell_type": "code",
   "execution_count": 296,
   "id": "af473d5b-cfe0-495e-bd4f-a2bad86e4960",
   "metadata": {},
   "outputs": [
    {
     "data": {
      "text/plain": [
       "incident_type\n",
       "Multi-vehicle Collision     419\n",
       "Single Vehicle Collision    403\n",
       "Vehicle Theft                94\n",
       "Parked Car                   84\n",
       "Name: count, dtype: int64"
      ]
     },
     "execution_count": 296,
     "metadata": {},
     "output_type": "execute_result"
    }
   ],
   "source": [
    "df[\"incident_type\"].value_counts()"
   ]
  },
  {
   "cell_type": "code",
   "execution_count": null,
   "id": "1ab534eb-752e-488a-a0cc-8a7895b5a07a",
   "metadata": {},
   "outputs": [],
   "source": [
    "# Observe : this column have Multi-vehicle Collision value  contains MORE"
   ]
  },
  {
   "cell_type": "code",
   "execution_count": 298,
   "id": "4e73ac42-155b-4477-ac16-cf1a191b111a",
   "metadata": {},
   "outputs": [
    {
     "data": {
      "text/plain": [
       "4"
      ]
     },
     "execution_count": 298,
     "metadata": {},
     "output_type": "execute_result"
    }
   ],
   "source": [
    "df[\"incident_type\"].nunique()"
   ]
  },
  {
   "cell_type": "code",
   "execution_count": null,
   "id": "7cc2da90-273a-46fc-a739-f1b6bdb29aa7",
   "metadata": {},
   "outputs": [],
   "source": [
    "# this columns contains 6 type"
   ]
  },
  {
   "cell_type": "markdown",
   "id": "bf7edbd7-a2c1-45f7-9716-23f5682e3b64",
   "metadata": {},
   "source": [
    "# column 20=\"collision_type\""
   ]
  },
  {
   "cell_type": "code",
   "execution_count": 308,
   "id": "29f8c76d-8ab6-47a5-8204-10909f848cc9",
   "metadata": {},
   "outputs": [
    {
     "data": {
      "text/plain": [
       "dtype('O')"
      ]
     },
     "execution_count": 308,
     "metadata": {},
     "output_type": "execute_result"
    }
   ],
   "source": [
    "df[\"collision_type\"].dtypes"
   ]
  },
  {
   "cell_type": "code",
   "execution_count": null,
   "id": "8da259c1-10b3-4781-8dc0-81df1f0853fd",
   "metadata": {},
   "outputs": [],
   "source": [
    "# Observe : this column is object Datatype discrete variable  and correct Datatypes"
   ]
  },
  {
   "cell_type": "code",
   "execution_count": 302,
   "id": "c1d58901-8992-4e82-ae74-acab23c043df",
   "metadata": {},
   "outputs": [
    {
     "data": {
      "text/plain": [
       "0"
      ]
     },
     "execution_count": 302,
     "metadata": {},
     "output_type": "execute_result"
    }
   ],
   "source": [
    "df[\"collision_type\"].isnull().sum()"
   ]
  },
  {
   "cell_type": "code",
   "execution_count": null,
   "id": "06a766c7-7f0b-4cb1-aa0a-42e49f909748",
   "metadata": {},
   "outputs": [],
   "source": [
    "# Observe : in this column there is no null value"
   ]
  },
  {
   "cell_type": "code",
   "execution_count": 304,
   "id": "54d6003d-3f10-4491-8c39-a40ba29dc2e7",
   "metadata": {},
   "outputs": [
    {
     "data": {
      "text/plain": [
       "collision_type\n",
       "Rear Collision     292\n",
       "Side Collision     276\n",
       "Front Collision    254\n",
       "?                  178\n",
       "Name: count, dtype: int64"
      ]
     },
     "execution_count": 304,
     "metadata": {},
     "output_type": "execute_result"
    }
   ],
   "source": [
    "df[\"collision_type\"].value_counts()"
   ]
  },
  {
   "cell_type": "code",
   "execution_count": null,
   "id": "01d83e49-f5b1-4c05-aeb2-2fa366e7d13e",
   "metadata": {},
   "outputs": [],
   "source": [
    "# Observe : this column have rear Collision value  contains MORE"
   ]
  },
  {
   "cell_type": "code",
   "execution_count": 306,
   "id": "e361c0a2-e9c6-40a0-94e1-378d1f5a66d9",
   "metadata": {},
   "outputs": [
    {
     "data": {
      "text/plain": [
       "4"
      ]
     },
     "execution_count": 306,
     "metadata": {},
     "output_type": "execute_result"
    }
   ],
   "source": [
    "df[\"collision_type\"].nunique()"
   ]
  },
  {
   "cell_type": "code",
   "execution_count": null,
   "id": "b192bcdd-fd18-42bd-a5c3-9f1370be97cf",
   "metadata": {},
   "outputs": [],
   "source": [
    "# this columns contains 4 type"
   ]
  },
  {
   "cell_type": "markdown",
   "id": "788fce42-d35d-4981-a27b-c08d990e864a",
   "metadata": {},
   "source": [
    "# column 21 =\"incident_severity\""
   ]
  },
  {
   "cell_type": "code",
   "execution_count": 310,
   "id": "468baff1-7315-4f34-87c5-8006c7f9c369",
   "metadata": {},
   "outputs": [
    {
     "data": {
      "text/plain": [
       "dtype('O')"
      ]
     },
     "execution_count": 310,
     "metadata": {},
     "output_type": "execute_result"
    }
   ],
   "source": [
    "df[\"incident_severity\"].dtypes"
   ]
  },
  {
   "cell_type": "code",
   "execution_count": null,
   "id": "e83bde46-67b5-49b8-8ba6-8a94cb43f968",
   "metadata": {},
   "outputs": [],
   "source": [
    "# Observe : this column is object Datatype discrete variable  and correct Datatypes"
   ]
  },
  {
   "cell_type": "code",
   "execution_count": 312,
   "id": "558cb4d0-9259-4146-9f46-0bb7c2dbb865",
   "metadata": {},
   "outputs": [
    {
     "data": {
      "text/plain": [
       "0"
      ]
     },
     "execution_count": 312,
     "metadata": {},
     "output_type": "execute_result"
    }
   ],
   "source": [
    "df[\"incident_severity\"].isnull().sum()"
   ]
  },
  {
   "cell_type": "code",
   "execution_count": null,
   "id": "2631c164-10a0-490c-80e0-fcce17ae907c",
   "metadata": {},
   "outputs": [],
   "source": [
    "# Observe : in this column there is no null value"
   ]
  },
  {
   "cell_type": "code",
   "execution_count": 318,
   "id": "56492281-3c34-451b-9fb8-c252035c0bf7",
   "metadata": {},
   "outputs": [
    {
     "data": {
      "text/plain": [
       "incident_severity\n",
       "Minor Damage      354\n",
       "Total Loss        280\n",
       "Major Damage      276\n",
       "Trivial Damage     90\n",
       "Name: count, dtype: int64"
      ]
     },
     "execution_count": 318,
     "metadata": {},
     "output_type": "execute_result"
    }
   ],
   "source": [
    "df[\"incident_severity\"].value_counts()"
   ]
  },
  {
   "cell_type": "code",
   "execution_count": null,
   "id": "ad53eef2-e2c0-450c-8ef0-2202ce39d6ee",
   "metadata": {},
   "outputs": [],
   "source": [
    "# Observe : this column have Minor Damage  contains MORE value"
   ]
  },
  {
   "cell_type": "code",
   "execution_count": 316,
   "id": "26b2037c-f0bd-4b73-a5f9-bdeb06f8d4f7",
   "metadata": {},
   "outputs": [
    {
     "data": {
      "text/plain": [
       "4"
      ]
     },
     "execution_count": 316,
     "metadata": {},
     "output_type": "execute_result"
    }
   ],
   "source": [
    "df[\"incident_severity\"].nunique()"
   ]
  },
  {
   "cell_type": "code",
   "execution_count": null,
   "id": "3e4b7b2e-8ab7-45dc-949b-46f331e4cec8",
   "metadata": {},
   "outputs": [],
   "source": [
    "# this columns contains 4 type"
   ]
  },
  {
   "cell_type": "markdown",
   "id": "3f570f85-aada-4e6b-8e22-df47975e56e9",
   "metadata": {},
   "source": [
    "# columns 22 = \"authorities_contacted\""
   ]
  },
  {
   "cell_type": "code",
   "execution_count": 322,
   "id": "78c0c7d5-1541-47be-946b-f90558c41bbc",
   "metadata": {},
   "outputs": [
    {
     "data": {
      "text/plain": [
       "dtype('O')"
      ]
     },
     "execution_count": 322,
     "metadata": {},
     "output_type": "execute_result"
    }
   ],
   "source": [
    "df[\"authorities_contacted\"].dtypes"
   ]
  },
  {
   "cell_type": "code",
   "execution_count": null,
   "id": "1df79808-2c2c-41ea-b339-f350293a6943",
   "metadata": {},
   "outputs": [],
   "source": [
    "# Observe : this column is object Datatype discrete variable  and correct Datatypes"
   ]
  },
  {
   "cell_type": "code",
   "execution_count": 320,
   "id": "758bca6f-f370-4f12-92de-3c93b77417f0",
   "metadata": {},
   "outputs": [
    {
     "data": {
      "text/plain": [
       "91"
      ]
     },
     "execution_count": 320,
     "metadata": {},
     "output_type": "execute_result"
    }
   ],
   "source": [
    "df[\"authorities_contacted\"].isnull().sum()"
   ]
  },
  {
   "cell_type": "code",
   "execution_count": null,
   "id": "264c781e-5808-461f-99ac-a79c3c387580",
   "metadata": {},
   "outputs": [],
   "source": [
    "# Observe : in this column there is 91 null value"
   ]
  },
  {
   "cell_type": "code",
   "execution_count": 324,
   "id": "87716559-7495-49c8-96cd-ac0dae45bb03",
   "metadata": {},
   "outputs": [
    {
     "data": {
      "text/plain": [
       "authorities_contacted\n",
       "Police       292\n",
       "Fire         223\n",
       "Other        198\n",
       "Ambulance    196\n",
       "Name: count, dtype: int64"
      ]
     },
     "execution_count": 324,
     "metadata": {},
     "output_type": "execute_result"
    }
   ],
   "source": [
    "df[\"authorities_contacted\"].value_counts()"
   ]
  },
  {
   "cell_type": "code",
   "execution_count": null,
   "id": "38c90437-42f9-4efb-aaa2-b251ffe18149",
   "metadata": {},
   "outputs": [],
   "source": [
    "# Observe : this column have  police value  contains MORE"
   ]
  },
  {
   "cell_type": "code",
   "execution_count": 328,
   "id": "105cd9c9-4b90-4853-933b-779173e89802",
   "metadata": {},
   "outputs": [
    {
     "data": {
      "text/plain": [
       "array(['Police', nan, 'Fire', 'Other', 'Ambulance'], dtype=object)"
      ]
     },
     "execution_count": 328,
     "metadata": {},
     "output_type": "execute_result"
    }
   ],
   "source": [
    "df[\"authorities_contacted\"].unique()"
   ]
  },
  {
   "cell_type": "code",
   "execution_count": null,
   "id": "154597c0-fa03-413e-afed-1cca238a75a2",
   "metadata": {},
   "outputs": [],
   "source": [
    "# this columns contains 4 type and some nan"
   ]
  },
  {
   "cell_type": "markdown",
   "id": "02279ac0-9ee1-4890-b326-9c06a406003f",
   "metadata": {},
   "source": [
    "# column 23 =\"incident_state\""
   ]
  },
  {
   "cell_type": "code",
   "execution_count": 330,
   "id": "dc9a6aac-eab9-4206-9541-4653390556a4",
   "metadata": {},
   "outputs": [
    {
     "data": {
      "text/plain": [
       "dtype('O')"
      ]
     },
     "execution_count": 330,
     "metadata": {},
     "output_type": "execute_result"
    }
   ],
   "source": [
    "df[\"incident_state\"].dtypes"
   ]
  },
  {
   "cell_type": "code",
   "execution_count": null,
   "id": "22719a6b-0f8d-483f-81a1-c192efc3b007",
   "metadata": {},
   "outputs": [],
   "source": [
    "# Observe : this column is object Datatype discrete variable  and correct Datatypes"
   ]
  },
  {
   "cell_type": "code",
   "execution_count": 332,
   "id": "a38a8856-84be-4baf-95cf-4077e0b5e72e",
   "metadata": {},
   "outputs": [
    {
     "data": {
      "text/plain": [
       "0"
      ]
     },
     "execution_count": 332,
     "metadata": {},
     "output_type": "execute_result"
    }
   ],
   "source": [
    "df[\"incident_state\"].isnull().sum()"
   ]
  },
  {
   "cell_type": "code",
   "execution_count": null,
   "id": "df7487bd-d24f-4418-80f2-5149727944e4",
   "metadata": {},
   "outputs": [],
   "source": [
    "# Observe : in this column there is no null value"
   ]
  },
  {
   "cell_type": "code",
   "execution_count": 336,
   "id": "9b709c60-1fc3-4616-a193-fba27a81abf0",
   "metadata": {},
   "outputs": [
    {
     "data": {
      "text/plain": [
       "incident_state\n",
       "NY    262\n",
       "SC    248\n",
       "WV    217\n",
       "VA    110\n",
       "NC    110\n",
       "PA     30\n",
       "OH     23\n",
       "Name: count, dtype: int64"
      ]
     },
     "execution_count": 336,
     "metadata": {},
     "output_type": "execute_result"
    }
   ],
   "source": [
    "df[\"incident_state\"].value_counts()"
   ]
  },
  {
   "cell_type": "code",
   "execution_count": null,
   "id": "26e89e62-1623-4ec1-9494-3121f1700480",
   "metadata": {},
   "outputs": [],
   "source": [
    "# Observe : this column have NY value  contains MORE"
   ]
  },
  {
   "cell_type": "code",
   "execution_count": 340,
   "id": "35765283-5889-4ba1-a96b-b2e1e25fdcaa",
   "metadata": {},
   "outputs": [
    {
     "data": {
      "text/plain": [
       "7"
      ]
     },
     "execution_count": 340,
     "metadata": {},
     "output_type": "execute_result"
    }
   ],
   "source": [
    "df[\"incident_state\"].nunique()"
   ]
  },
  {
   "cell_type": "code",
   "execution_count": null,
   "id": "9761e635-5cbe-4ab7-bd76-6247847448fa",
   "metadata": {},
   "outputs": [],
   "source": [
    "# this columns contains 7 type"
   ]
  },
  {
   "cell_type": "markdown",
   "id": "6277d130-513a-496e-b111-69ba3ec3b281",
   "metadata": {},
   "source": [
    "# column 24=\"incident_city\""
   ]
  },
  {
   "cell_type": "code",
   "execution_count": 346,
   "id": "81dfef85-4e87-4399-b14e-ef3643511bbf",
   "metadata": {},
   "outputs": [
    {
     "data": {
      "text/plain": [
       "dtype('O')"
      ]
     },
     "execution_count": 346,
     "metadata": {},
     "output_type": "execute_result"
    }
   ],
   "source": [
    "df[\"incident_city\"].dtypes"
   ]
  },
  {
   "cell_type": "code",
   "execution_count": null,
   "id": "04bbdc5a-d593-4749-9980-47194e1ea0c6",
   "metadata": {},
   "outputs": [],
   "source": [
    "# Observe : this column is object Datatype discrete variable  and correct Datatypes"
   ]
  },
  {
   "cell_type": "code",
   "execution_count": 348,
   "id": "c80a4c8b-f26c-4bc2-83e6-a4dc4cfe48d5",
   "metadata": {},
   "outputs": [
    {
     "data": {
      "text/plain": [
       "0"
      ]
     },
     "execution_count": 348,
     "metadata": {},
     "output_type": "execute_result"
    }
   ],
   "source": [
    "df[\"incident_city\"].isnull().sum()"
   ]
  },
  {
   "cell_type": "code",
   "execution_count": null,
   "id": "0ad7ec8d-eca7-4909-9fc0-90a8ebfdd5ba",
   "metadata": {},
   "outputs": [],
   "source": [
    "# Observe : in this column there is no null value"
   ]
  },
  {
   "cell_type": "code",
   "execution_count": 342,
   "id": "bc109952-0810-476a-a1d1-d36e6f80a6ba",
   "metadata": {
    "scrolled": true
   },
   "outputs": [
    {
     "data": {
      "text/plain": [
       "incident_city\n",
       "Springfield    157\n",
       "Arlington      152\n",
       "Columbus       149\n",
       "Northbend      145\n",
       "Hillsdale      141\n",
       "Riverwood      134\n",
       "Northbrook     122\n",
       "Name: count, dtype: int64"
      ]
     },
     "execution_count": 342,
     "metadata": {},
     "output_type": "execute_result"
    }
   ],
   "source": [
    "df[\"incident_city\"].value_counts()"
   ]
  },
  {
   "cell_type": "code",
   "execution_count": null,
   "id": "78f5598c-2e3f-4cee-a5b9-598178a0525a",
   "metadata": {},
   "outputs": [],
   "source": [
    "# Observe : this column have Springfield  value  contains MORE"
   ]
  },
  {
   "cell_type": "code",
   "execution_count": 344,
   "id": "14aeca99-c3f7-474e-9a1e-22e172e6fca9",
   "metadata": {},
   "outputs": [
    {
     "data": {
      "text/plain": [
       "7"
      ]
     },
     "execution_count": 344,
     "metadata": {},
     "output_type": "execute_result"
    }
   ],
   "source": [
    "df[\"incident_city\"].nunique()"
   ]
  },
  {
   "cell_type": "code",
   "execution_count": null,
   "id": "7a41397c-acad-4e20-8387-e9377d171154",
   "metadata": {},
   "outputs": [],
   "source": [
    "# this columns contains 7 type"
   ]
  },
  {
   "cell_type": "markdown",
   "id": "fadccde6-4dc1-4296-a524-c69e1ba39bb4",
   "metadata": {},
   "source": [
    "# columns 25=\"\tincident_location\""
   ]
  },
  {
   "cell_type": "code",
   "execution_count": 350,
   "id": "9c771be0-21ee-483c-a8a0-b071572597e7",
   "metadata": {},
   "outputs": [
    {
     "data": {
      "text/plain": [
       "dtype('O')"
      ]
     },
     "execution_count": 350,
     "metadata": {},
     "output_type": "execute_result"
    }
   ],
   "source": [
    "df[\"incident_location\"].dtypes"
   ]
  },
  {
   "cell_type": "code",
   "execution_count": null,
   "id": "8016e3c8-b6c7-405c-b9e4-bdaab1c11d95",
   "metadata": {},
   "outputs": [],
   "source": [
    "# Observe : this column is object Datatype discrete variable  and correct Datatypes"
   ]
  },
  {
   "cell_type": "code",
   "execution_count": 356,
   "id": "18414f28-483a-467c-bb97-16c4a32f8706",
   "metadata": {},
   "outputs": [
    {
     "data": {
      "text/plain": [
       "1000"
      ]
     },
     "execution_count": 356,
     "metadata": {},
     "output_type": "execute_result"
    }
   ],
   "source": [
    "df[\"incident_location\"].nunique()"
   ]
  },
  {
   "cell_type": "code",
   "execution_count": null,
   "id": "49a5c7a0-19a7-4e3a-85b6-1977a8552696",
   "metadata": {},
   "outputs": [],
   "source": [
    "#each rows has unique value (if more then 30% of the rows values uni.) there is no use in the analysis)\n",
    "# simply drop them"
   ]
  },
  {
   "cell_type": "markdown",
   "id": "aada5cd9-bb43-4464-b63a-4432545af3a8",
   "metadata": {},
   "source": [
    "# column 26=\"incident_hour_of_the_day\""
   ]
  },
  {
   "cell_type": "code",
   "execution_count": 358,
   "id": "8ba3b714-ccad-4109-a412-4dbcacf3c945",
   "metadata": {},
   "outputs": [
    {
     "data": {
      "text/plain": [
       "dtype('int64')"
      ]
     },
     "execution_count": 358,
     "metadata": {},
     "output_type": "execute_result"
    }
   ],
   "source": [
    "df[\"incident_hour_of_the_day\"].dtypes"
   ]
  },
  {
   "cell_type": "code",
   "execution_count": null,
   "id": "c7d246dd-1256-4663-974c-fe5ac781b687",
   "metadata": {},
   "outputs": [],
   "source": [
    "# Observe : this column is int  Datatype count/discrete variable  and correct Datatypes"
   ]
  },
  {
   "cell_type": "code",
   "execution_count": 360,
   "id": "f56e3335-e243-427c-bfd9-9a71d7aae69e",
   "metadata": {},
   "outputs": [
    {
     "data": {
      "text/plain": [
       "incident_hour_of_the_day\n",
       "17    54\n",
       "3     53\n",
       "0     52\n",
       "23    51\n",
       "16    49\n",
       "13    46\n",
       "10    46\n",
       "4     46\n",
       "6     44\n",
       "9     43\n",
       "14    43\n",
       "21    42\n",
       "18    41\n",
       "12    40\n",
       "19    40\n",
       "7     40\n",
       "15    39\n",
       "22    38\n",
       "8     36\n",
       "20    34\n",
       "5     33\n",
       "2     31\n",
       "11    30\n",
       "1     29\n",
       "Name: count, dtype: int64"
      ]
     },
     "execution_count": 360,
     "metadata": {},
     "output_type": "execute_result"
    }
   ],
   "source": [
    "df[\"incident_hour_of_the_day\"].value_counts()"
   ]
  },
  {
   "cell_type": "code",
   "execution_count": null,
   "id": "587d8580-af89-42d5-b1b6-da5a42513671",
   "metadata": {},
   "outputs": [],
   "source": [
    "# Observe : this column have Springfield  value  contains MORE"
   ]
  },
  {
   "cell_type": "code",
   "execution_count": 362,
   "id": "1af8f920-3981-4bcd-96ec-a5b70233f1f6",
   "metadata": {},
   "outputs": [
    {
     "data": {
      "text/plain": [
       "0"
      ]
     },
     "execution_count": 362,
     "metadata": {},
     "output_type": "execute_result"
    }
   ],
   "source": [
    "df[\"incident_hour_of_the_day\"].isnull().sum()"
   ]
  },
  {
   "cell_type": "code",
   "execution_count": null,
   "id": "4dab0e11-d249-4cea-a528-7a73807ea9af",
   "metadata": {},
   "outputs": [],
   "source": [
    "# Observe : in this column there is no null value"
   ]
  },
  {
   "cell_type": "code",
   "execution_count": 368,
   "id": "a406d54d-2079-4481-a1af-77f8d7cd1ccf",
   "metadata": {},
   "outputs": [
    {
     "data": {
      "text/plain": [
       "24"
      ]
     },
     "execution_count": 368,
     "metadata": {},
     "output_type": "execute_result"
    }
   ],
   "source": [
    "df[\"incident_hour_of_the_day\"].nunique()"
   ]
  },
  {
   "cell_type": "code",
   "execution_count": null,
   "id": "aafe12e5-1d89-4022-870b-931375f06d97",
   "metadata": {},
   "outputs": [],
   "source": [
    "# this columns contains 24 type"
   ]
  },
  {
   "cell_type": "markdown",
   "id": "c3ac789b-b5a7-4d81-a38d-9078e85d3d83",
   "metadata": {},
   "source": [
    " # columns 27=\"number_of_vehicles_involved\""
   ]
  },
  {
   "cell_type": "code",
   "execution_count": 370,
   "id": "efc85d3d-1ca4-4a32-8139-856c6229285b",
   "metadata": {},
   "outputs": [
    {
     "data": {
      "text/plain": [
       "dtype('int64')"
      ]
     },
     "execution_count": 370,
     "metadata": {},
     "output_type": "execute_result"
    }
   ],
   "source": [
    "df[\"number_of_vehicles_involved\"].dtypes"
   ]
  },
  {
   "cell_type": "code",
   "execution_count": null,
   "id": "57ad5796-79e1-4e73-85fc-3e61cf26fbf1",
   "metadata": {},
   "outputs": [],
   "source": [
    "# Observe : this column is int  Datatype count/discrete variable  and correct Datatypes"
   ]
  },
  {
   "cell_type": "code",
   "execution_count": 372,
   "id": "d3e065d3-5d0b-4144-81ac-abc3e5fee00d",
   "metadata": {},
   "outputs": [
    {
     "data": {
      "text/plain": [
       "0"
      ]
     },
     "execution_count": 372,
     "metadata": {},
     "output_type": "execute_result"
    }
   ],
   "source": [
    "df[\"number_of_vehicles_involved\"].isnull().sum()"
   ]
  },
  {
   "cell_type": "code",
   "execution_count": null,
   "id": "c4715883-5262-440c-ae5d-e6f43974a215",
   "metadata": {},
   "outputs": [],
   "source": [
    "# Observe : in this column there is no null value"
   ]
  },
  {
   "cell_type": "code",
   "execution_count": 374,
   "id": "796495ac-0f9e-4e06-b910-49df51d0c2cc",
   "metadata": {},
   "outputs": [
    {
     "data": {
      "text/plain": [
       "number_of_vehicles_involved\n",
       "1    581\n",
       "3    358\n",
       "4     31\n",
       "2     30\n",
       "Name: count, dtype: int64"
      ]
     },
     "execution_count": 374,
     "metadata": {},
     "output_type": "execute_result"
    }
   ],
   "source": [
    "df[\"number_of_vehicles_involved\"].value_counts()"
   ]
  },
  {
   "cell_type": "code",
   "execution_count": null,
   "id": "3c454765-9ef5-4a9e-abe7-8d48abe45abb",
   "metadata": {},
   "outputs": [],
   "source": [
    "# Observe : this column have 1 value  contains MORE"
   ]
  },
  {
   "cell_type": "code",
   "execution_count": 376,
   "id": "142b4151-f059-4904-ad1c-c2ad5a5a788c",
   "metadata": {},
   "outputs": [
    {
     "data": {
      "text/plain": [
       "4"
      ]
     },
     "execution_count": 376,
     "metadata": {},
     "output_type": "execute_result"
    }
   ],
   "source": [
    "df[\"number_of_vehicles_involved\"].nunique()"
   ]
  },
  {
   "cell_type": "code",
   "execution_count": null,
   "id": "e423560b-ddaa-41a1-843a-3e28460eb8c3",
   "metadata": {},
   "outputs": [],
   "source": [
    "# this columns contains 4 type"
   ]
  },
  {
   "cell_type": "markdown",
   "id": "b51c940c-7660-46b4-b959-c4b396a25932",
   "metadata": {},
   "source": [
    "# columns 28=\"property_damage\""
   ]
  },
  {
   "cell_type": "code",
   "execution_count": 378,
   "id": "449a6ea3-fd4c-4348-99b8-7e12865fab48",
   "metadata": {},
   "outputs": [
    {
     "data": {
      "text/plain": [
       "dtype('O')"
      ]
     },
     "execution_count": 378,
     "metadata": {},
     "output_type": "execute_result"
    }
   ],
   "source": [
    "df[\"property_damage\"].dtypes"
   ]
  },
  {
   "cell_type": "code",
   "execution_count": null,
   "id": "6ec7896f-dcf6-4cb1-b82c-d96499b2f00b",
   "metadata": {},
   "outputs": [],
   "source": [
    "# Observe : this column is object Datatype discrete variable  and correct Datatypes"
   ]
  },
  {
   "cell_type": "code",
   "execution_count": 380,
   "id": "b301e8f1-e2db-463a-b3d6-ca816a39a357",
   "metadata": {},
   "outputs": [
    {
     "data": {
      "text/plain": [
       "property_damage\n",
       "?      360\n",
       "NO     338\n",
       "YES    302\n",
       "Name: count, dtype: int64"
      ]
     },
     "execution_count": 380,
     "metadata": {},
     "output_type": "execute_result"
    }
   ],
   "source": [
    "df[\"property_damage\"].value_counts()"
   ]
  },
  {
   "cell_type": "code",
   "execution_count": null,
   "id": "f557bd46-a80a-43a1-b631-164c602d101d",
   "metadata": {},
   "outputs": [],
   "source": [
    "# Observe : this column have ? value  contains MORE"
   ]
  },
  {
   "cell_type": "code",
   "execution_count": 382,
   "id": "8c416c4e-ddac-4efe-8166-91244c54a716",
   "metadata": {},
   "outputs": [
    {
     "data": {
      "text/plain": [
       "0"
      ]
     },
     "execution_count": 382,
     "metadata": {},
     "output_type": "execute_result"
    }
   ],
   "source": [
    "df[\"property_damage\"].isnull().sum()"
   ]
  },
  {
   "cell_type": "code",
   "execution_count": null,
   "id": "a497f12a-fb49-42d7-bf86-61335b87069f",
   "metadata": {},
   "outputs": [],
   "source": [
    "# Observe : in this column there is no null value"
   ]
  },
  {
   "cell_type": "code",
   "execution_count": 384,
   "id": "0dce3a33-1f70-49c2-af70-925c1eba0594",
   "metadata": {},
   "outputs": [
    {
     "data": {
      "text/plain": [
       "array(['YES', '?', 'NO'], dtype=object)"
      ]
     },
     "execution_count": 384,
     "metadata": {},
     "output_type": "execute_result"
    }
   ],
   "source": [
    "df[\"property_damage\"].unique()"
   ]
  },
  {
   "cell_type": "code",
   "execution_count": null,
   "id": "a548bc50-f375-42b6-906d-da8d766d2a70",
   "metadata": {},
   "outputs": [],
   "source": [
    "# this columns contains 2  type and one is ?"
   ]
  },
  {
   "cell_type": "markdown",
   "id": "4c8c419d-004e-462e-a978-2827cb6c3b5b",
   "metadata": {},
   "source": [
    "# columns 29= \"bodily_injuries\""
   ]
  },
  {
   "cell_type": "code",
   "execution_count": 386,
   "id": "fca54027-d935-47a0-9e7a-94e7a8a4235c",
   "metadata": {},
   "outputs": [
    {
     "data": {
      "text/plain": [
       "dtype('int64')"
      ]
     },
     "execution_count": 386,
     "metadata": {},
     "output_type": "execute_result"
    }
   ],
   "source": [
    "df[\"bodily_injuries\"].dtypes"
   ]
  },
  {
   "cell_type": "code",
   "execution_count": null,
   "id": "9f5efbdd-0846-45fe-b1c2-0a7dc7d4058d",
   "metadata": {},
   "outputs": [],
   "source": [
    "# Observe : this column is int Datatype,count/ discrete variable  and correct Datatypes"
   ]
  },
  {
   "cell_type": "code",
   "execution_count": 388,
   "id": "d61f7046-bcf6-4886-a8e3-081c7597e2de",
   "metadata": {},
   "outputs": [
    {
     "data": {
      "text/plain": [
       "0"
      ]
     },
     "execution_count": 388,
     "metadata": {},
     "output_type": "execute_result"
    }
   ],
   "source": [
    "df[\"bodily_injuries\"].isnull().sum()"
   ]
  },
  {
   "cell_type": "code",
   "execution_count": null,
   "id": "1893a963-4f77-4588-8a89-0b59e3727233",
   "metadata": {},
   "outputs": [],
   "source": [
    "# Observe : in this column there is no null value"
   ]
  },
  {
   "cell_type": "code",
   "execution_count": 390,
   "id": "c00a1b74-78ac-411a-8e29-5b37df2279d8",
   "metadata": {},
   "outputs": [
    {
     "data": {
      "text/plain": [
       "bodily_injuries\n",
       "0    340\n",
       "2    332\n",
       "1    328\n",
       "Name: count, dtype: int64"
      ]
     },
     "execution_count": 390,
     "metadata": {},
     "output_type": "execute_result"
    }
   ],
   "source": [
    "df[\"bodily_injuries\"].value_counts()"
   ]
  },
  {
   "cell_type": "code",
   "execution_count": null,
   "id": "b8d5b0f0-a9be-449a-a20d-8f3f9f5fe5d5",
   "metadata": {},
   "outputs": [],
   "source": [
    "# Observe : this column has 0 value  contains more"
   ]
  },
  {
   "cell_type": "code",
   "execution_count": 392,
   "id": "0ef97956-91f4-4b4b-9293-5f4783b8d874",
   "metadata": {},
   "outputs": [
    {
     "data": {
      "text/plain": [
       "array([1, 0, 2], dtype=int64)"
      ]
     },
     "execution_count": 392,
     "metadata": {},
     "output_type": "execute_result"
    }
   ],
   "source": [
    "df[\"bodily_injuries\"].unique()"
   ]
  },
  {
   "cell_type": "code",
   "execution_count": null,
   "id": "068fbd8e-d5df-4389-a26e-52a1f367c378",
   "metadata": {},
   "outputs": [],
   "source": [
    "# Observe : this column has 3 types of value  contains"
   ]
  },
  {
   "cell_type": "markdown",
   "id": "413e2192-e2c2-403f-9b16-17f6a2b55232",
   "metadata": {},
   "source": [
    "# column 30= \"witnesses\"   (Number of witnesses present)"
   ]
  },
  {
   "cell_type": "code",
   "execution_count": 138,
   "id": "f756532b-a0f2-4bfe-9229-80cce9075e10",
   "metadata": {},
   "outputs": [
    {
     "data": {
      "text/plain": [
       "dtype('int64')"
      ]
     },
     "execution_count": 138,
     "metadata": {},
     "output_type": "execute_result"
    }
   ],
   "source": [
    "df[\"witnesses\"].dtypes"
   ]
  },
  {
   "cell_type": "code",
   "execution_count": null,
   "id": "40a4d628-ca7e-4106-9e8a-1032f825e91f",
   "metadata": {},
   "outputs": [],
   "source": [
    "# Observe : this column is int Datatype,count/ discrete variable  and correct Datatypes"
   ]
  },
  {
   "cell_type": "code",
   "execution_count": 140,
   "id": "7db23ece-09c8-4f7e-b5d1-a3ef3671944d",
   "metadata": {},
   "outputs": [
    {
     "data": {
      "text/plain": [
       "array([2, 0, 3, 1], dtype=int64)"
      ]
     },
     "execution_count": 140,
     "metadata": {},
     "output_type": "execute_result"
    }
   ],
   "source": [
    "df[\"witnesses\"].unique()"
   ]
  },
  {
   "cell_type": "code",
   "execution_count": null,
   "id": "80300175-d16d-4303-b139-0e958637765e",
   "metadata": {},
   "outputs": [],
   "source": [
    "# Observe : this column has four types of value  contains"
   ]
  },
  {
   "cell_type": "code",
   "execution_count": 142,
   "id": "b46b2d0d-3a30-41e1-ae25-1acfab1b22c2",
   "metadata": {},
   "outputs": [
    {
     "data": {
      "text/plain": [
       "0"
      ]
     },
     "execution_count": 142,
     "metadata": {},
     "output_type": "execute_result"
    }
   ],
   "source": [
    "df[\"witnesses\"].isnull().sum()"
   ]
  },
  {
   "cell_type": "code",
   "execution_count": null,
   "id": "c7ef9d1d-495c-40b7-8abf-1bd58618514a",
   "metadata": {},
   "outputs": [],
   "source": [
    "# Observe : in this column there is no null value"
   ]
  },
  {
   "cell_type": "markdown",
   "id": "56300f45-2290-4d95-b678-49a92f3eed79",
   "metadata": {},
   "source": [
    "# column 31= \"police_report_available\""
   ]
  },
  {
   "cell_type": "code",
   "execution_count": 148,
   "id": "f708d597-ae11-40ac-9ec3-aa49c2efadab",
   "metadata": {},
   "outputs": [
    {
     "data": {
      "text/plain": [
       "dtype('O')"
      ]
     },
     "execution_count": 148,
     "metadata": {},
     "output_type": "execute_result"
    }
   ],
   "source": [
    "df[\"police_report_available\"].dtypes"
   ]
  },
  {
   "cell_type": "code",
   "execution_count": null,
   "id": "602d6834-8eff-49ef-93a3-598bcd29b2ee",
   "metadata": {},
   "outputs": [],
   "source": [
    "# Observe : this column is discrete variable,object  Datatype and correct Datatypes"
   ]
  },
  {
   "cell_type": "code",
   "execution_count": 144,
   "id": "e5e487a9-660e-4d32-a9aa-c4b42296eeef",
   "metadata": {},
   "outputs": [
    {
     "data": {
      "text/plain": [
       "police_report_available\n",
       "?      343\n",
       "NO     343\n",
       "YES    314\n",
       "Name: count, dtype: int64"
      ]
     },
     "execution_count": 144,
     "metadata": {},
     "output_type": "execute_result"
    }
   ],
   "source": [
    "df[\"police_report_available\"].value_counts()"
   ]
  },
  {
   "cell_type": "code",
   "execution_count": null,
   "id": "0d017615-7e1c-4ce3-bbeb-5e9fd8f6718e",
   "metadata": {},
   "outputs": [],
   "source": [
    "# Observe : this column has three types of value  contains"
   ]
  },
  {
   "cell_type": "code",
   "execution_count": 146,
   "id": "240392d7-0343-4d6e-9bd7-d72e409af664",
   "metadata": {},
   "outputs": [
    {
     "data": {
      "text/plain": [
       "0"
      ]
     },
     "execution_count": 146,
     "metadata": {},
     "output_type": "execute_result"
    }
   ],
   "source": [
    "df[\"police_report_available\"].isnull().sum()"
   ]
  },
  {
   "cell_type": "code",
   "execution_count": null,
   "id": "e14ab790-ead3-463a-ab83-b7608c27c5e4",
   "metadata": {},
   "outputs": [],
   "source": [
    "# Observe : in this column there is no null value"
   ]
  },
  {
   "cell_type": "markdown",
   "id": "4d008455-94d5-4f7a-a0c3-fe9b49a15151",
   "metadata": {},
   "source": [
    "# column 32= \"total_claim_amount\" (Total amount claimed from the insurance)"
   ]
  },
  {
   "cell_type": "code",
   "execution_count": 150,
   "id": "41c7cc26-8ffe-40eb-adad-af0ed369b97b",
   "metadata": {},
   "outputs": [
    {
     "data": {
      "text/plain": [
       "dtype('int64')"
      ]
     },
     "execution_count": 150,
     "metadata": {},
     "output_type": "execute_result"
    }
   ],
   "source": [
    "df[\"total_claim_amount\"].dtypes"
   ]
  },
  {
   "cell_type": "code",
   "execution_count": null,
   "id": "a7719c98-fecc-41dd-9561-b36938daf184",
   "metadata": {},
   "outputs": [],
   "source": [
    "# Observe : this column is int Datatype,continuous variable and correct Datatypes"
   ]
  },
  {
   "cell_type": "code",
   "execution_count": 152,
   "id": "eb62e6fd-59e3-4b3f-a003-acef94a164a2",
   "metadata": {},
   "outputs": [
    {
     "data": {
      "text/plain": [
       "0"
      ]
     },
     "execution_count": 152,
     "metadata": {},
     "output_type": "execute_result"
    }
   ],
   "source": [
    "df[\"total_claim_amount\"].isnull().sum()"
   ]
  },
  {
   "cell_type": "code",
   "execution_count": null,
   "id": "6e09dae7-b95c-487a-94b8-07e3529b116b",
   "metadata": {},
   "outputs": [],
   "source": [
    "# Observe : in this column there is no null value"
   ]
  },
  {
   "cell_type": "markdown",
   "id": "48ed46c1-344a-4d9b-bf8e-727d550f476a",
   "metadata": {},
   "source": [
    "#  column 33 =\"injury_claim\"       (Amount claimed for injuries)"
   ]
  },
  {
   "cell_type": "code",
   "execution_count": 158,
   "id": "aeb0d2dd-9984-44f2-8d67-79d062eb6359",
   "metadata": {},
   "outputs": [
    {
     "data": {
      "text/plain": [
       "dtype('int64')"
      ]
     },
     "execution_count": 158,
     "metadata": {},
     "output_type": "execute_result"
    }
   ],
   "source": [
    "df[\"injury_claim\"].dtypes"
   ]
  },
  {
   "cell_type": "code",
   "execution_count": null,
   "id": "48e986f8-6ffe-4ca8-87da-252bb17aac54",
   "metadata": {},
   "outputs": [],
   "source": [
    "# Observe : this column is int Datatype,continuous variable and correct Datatypes"
   ]
  },
  {
   "cell_type": "code",
   "execution_count": 160,
   "id": "90f6c329-4ad0-4f51-aa48-8e0de0542c59",
   "metadata": {},
   "outputs": [
    {
     "data": {
      "text/plain": [
       "0"
      ]
     },
     "execution_count": 160,
     "metadata": {},
     "output_type": "execute_result"
    }
   ],
   "source": [
    "df[\"injury_claim\"].isnull().sum()"
   ]
  },
  {
   "cell_type": "code",
   "execution_count": null,
   "id": "5e6288c2-7f1b-4d06-8962-61f2c08e811a",
   "metadata": {},
   "outputs": [],
   "source": [
    "# Observe : in this column there is no null value"
   ]
  },
  {
   "cell_type": "code",
   "execution_count": 164,
   "id": "d4197174-1eee-43c9-9753-d4c421434080",
   "metadata": {},
   "outputs": [
    {
     "data": {
      "text/plain": [
       "638"
      ]
     },
     "execution_count": 164,
     "metadata": {},
     "output_type": "execute_result"
    }
   ],
   "source": [
    "df[\"injury_claim\"].nunique()"
   ]
  },
  {
   "cell_type": "code",
   "execution_count": null,
   "id": "874fd749-203f-4eb8-9c01-402d6680bdbe",
   "metadata": {},
   "outputs": [],
   "source": [
    "# observe : - almost each rows have unique value but this is impact the analysis  so not drop them"
   ]
  },
  {
   "cell_type": "markdown",
   "id": "8bdded17-70d7-4ba7-8bf0-9f11754447c0",
   "metadata": {},
   "source": [
    "# column 34 =\"property_claim\"   (Claim amount for property damage.)"
   ]
  },
  {
   "cell_type": "code",
   "execution_count": null,
   "id": "0c39324f-b56b-4239-9a0b-409f8ca3e69a",
   "metadata": {},
   "outputs": [],
   "source": [
    "df[\"property_claim\"].dtypes"
   ]
  },
  {
   "cell_type": "code",
   "execution_count": null,
   "id": "39a0d450-8cbc-4692-94de-f224063cc868",
   "metadata": {},
   "outputs": [],
   "source": [
    "# Observe : this column is int Datatype,continuous variable and correct Datatypes"
   ]
  },
  {
   "cell_type": "code",
   "execution_count": 178,
   "id": "41a0a92e-f1f7-4948-841d-56f92c3aa57e",
   "metadata": {},
   "outputs": [
    {
     "data": {
      "text/plain": [
       "0"
      ]
     },
     "execution_count": 178,
     "metadata": {},
     "output_type": "execute_result"
    }
   ],
   "source": [
    "df[\"property_claim\"].isnull().sum()"
   ]
  },
  {
   "cell_type": "code",
   "execution_count": null,
   "id": "007e94bb-18f0-4984-a2b8-a73fd7c54072",
   "metadata": {},
   "outputs": [],
   "source": [
    "# Observe : in this column there is no null value"
   ]
  },
  {
   "cell_type": "markdown",
   "id": "4dbe5d8f-6fba-40c7-9f4e-d4b8de2ffc74",
   "metadata": {},
   "source": [
    "# column 35= \"vehicle_claim\"  (Claim amount for vehicle repair or replacement.)"
   ]
  },
  {
   "cell_type": "code",
   "execution_count": 170,
   "id": "996aa61d-349e-476a-ab8a-bc68946ff97c",
   "metadata": {},
   "outputs": [
    {
     "data": {
      "text/plain": [
       "dtype('int64')"
      ]
     },
     "execution_count": 170,
     "metadata": {},
     "output_type": "execute_result"
    }
   ],
   "source": [
    "df[\"vehicle_claim\"].dtypes"
   ]
  },
  {
   "cell_type": "code",
   "execution_count": null,
   "id": "a2f639af-bf40-4431-930b-a7d3543e2cfa",
   "metadata": {},
   "outputs": [],
   "source": [
    "# Observe : this column is int Datatype,continuous variable and correct Datatypes"
   ]
  },
  {
   "cell_type": "code",
   "execution_count": 174,
   "id": "4e2ab84f-ab8b-482f-ac4a-f99224a2b5c8",
   "metadata": {},
   "outputs": [
    {
     "data": {
      "text/plain": [
       "0"
      ]
     },
     "execution_count": 174,
     "metadata": {},
     "output_type": "execute_result"
    }
   ],
   "source": [
    "df[\"vehicle_claim\"].isnull().sum()"
   ]
  },
  {
   "cell_type": "code",
   "execution_count": null,
   "id": "02cdd44f-da0f-4461-8333-bb745c0b02fe",
   "metadata": {},
   "outputs": [],
   "source": [
    "# Observe : in this column there is no null value"
   ]
  },
  {
   "cell_type": "markdown",
   "id": "3108f709-028e-4d0a-819a-05f7d7193958",
   "metadata": {},
   "source": [
    "# column 36 = \"auto_make\"    (Car manufacturer)"
   ]
  },
  {
   "cell_type": "code",
   "execution_count": 182,
   "id": "dbf3969a-3ee2-4927-b287-f3e8253ab1b6",
   "metadata": {},
   "outputs": [
    {
     "data": {
      "text/plain": [
       "dtype('O')"
      ]
     },
     "execution_count": 182,
     "metadata": {},
     "output_type": "execute_result"
    }
   ],
   "source": [
    "df[\"auto_make\"].dtypes"
   ]
  },
  {
   "cell_type": "code",
   "execution_count": null,
   "id": "d4f77b95-7ee4-49db-85d6-d80aebd7c27c",
   "metadata": {},
   "outputs": [],
   "source": [
    "# Observe : this column is object Datatype,discrete variable and correct Datatypes"
   ]
  },
  {
   "cell_type": "code",
   "execution_count": 184,
   "id": "d8dd4a9a-4671-42b6-b8ec-6cb19c53e579",
   "metadata": {},
   "outputs": [
    {
     "data": {
      "text/plain": [
       "0"
      ]
     },
     "execution_count": 184,
     "metadata": {},
     "output_type": "execute_result"
    }
   ],
   "source": [
    "df[\"auto_make\"].isnull().sum()"
   ]
  },
  {
   "cell_type": "code",
   "execution_count": null,
   "id": "09f28a49-d02d-4d74-a53d-0e34041d6e38",
   "metadata": {},
   "outputs": [],
   "source": [
    "# Observe : in this column there is no null value"
   ]
  },
  {
   "cell_type": "code",
   "execution_count": 190,
   "id": "4f17e8c9-fb88-458f-8baa-7bc354c51d26",
   "metadata": {},
   "outputs": [
    {
     "data": {
      "text/plain": [
       "auto_make\n",
       "Saab          80\n",
       "Dodge         80\n",
       "Suburu        80\n",
       "Nissan        78\n",
       "Chevrolet     76\n",
       "Ford          72\n",
       "BMW           72\n",
       "Toyota        70\n",
       "Audi          69\n",
       "Accura        68\n",
       "Volkswagen    68\n",
       "Jeep          67\n",
       "Mercedes      65\n",
       "Honda         55\n",
       "Name: count, dtype: int64"
      ]
     },
     "execution_count": 190,
     "metadata": {},
     "output_type": "execute_result"
    }
   ],
   "source": [
    "df[\"auto_make\"].value_counts()"
   ]
  },
  {
   "cell_type": "code",
   "execution_count": 192,
   "id": "936b8b56-b309-4a5f-a35e-451698a83c2d",
   "metadata": {},
   "outputs": [],
   "source": [
    "# Observe : this column has 14 types of value  contains "
   ]
  },
  {
   "cell_type": "markdown",
   "id": "3cddaafc-2d66-4855-8196-4d8126a58043",
   "metadata": {},
   "source": [
    "# column 37= \"auto_model\"         (\tModel of the car.)"
   ]
  },
  {
   "cell_type": "code",
   "execution_count": 194,
   "id": "ddebb43c-b010-4909-8d78-6b3a181c9619",
   "metadata": {},
   "outputs": [
    {
     "data": {
      "text/plain": [
       "dtype('O')"
      ]
     },
     "execution_count": 194,
     "metadata": {},
     "output_type": "execute_result"
    }
   ],
   "source": [
    "df[\"auto_model\"].dtypes"
   ]
  },
  {
   "cell_type": "code",
   "execution_count": null,
   "id": "e8e697ba-3e3f-4a8a-a57d-426013f3ced1",
   "metadata": {},
   "outputs": [],
   "source": [
    "# Observe : this column is object Datatype,discrete variable and correct Datatypes"
   ]
  },
  {
   "cell_type": "code",
   "execution_count": 196,
   "id": "da7aac2e-2d7a-4353-97f9-7c50b66bed1f",
   "metadata": {},
   "outputs": [
    {
     "data": {
      "text/plain": [
       "0"
      ]
     },
     "execution_count": 196,
     "metadata": {},
     "output_type": "execute_result"
    }
   ],
   "source": [
    "df[\"auto_model\"].isnull().sum()"
   ]
  },
  {
   "cell_type": "code",
   "execution_count": null,
   "id": "80a4e190-23d9-453c-b4d8-49176a1b40f3",
   "metadata": {},
   "outputs": [],
   "source": [
    "# Observe : in this column there is no null value"
   ]
  },
  {
   "cell_type": "code",
   "execution_count": 198,
   "id": "b41b6d07-e31e-42dd-b715-27079e96c03b",
   "metadata": {},
   "outputs": [
    {
     "data": {
      "text/plain": [
       "auto_model\n",
       "RAM               43\n",
       "Wrangler          42\n",
       "A3                37\n",
       "Neon              37\n",
       "MDX               36\n",
       "Jetta             35\n",
       "Passat            33\n",
       "A5                32\n",
       "Legacy            32\n",
       "Pathfinder        31\n",
       "Malibu            30\n",
       "92x               28\n",
       "Camry             28\n",
       "Forrestor         28\n",
       "F150              27\n",
       "95                27\n",
       "E400              27\n",
       "93                25\n",
       "Grand Cherokee    25\n",
       "Escape            24\n",
       "Tahoe             24\n",
       "Maxima            24\n",
       "Ultima            23\n",
       "X5                23\n",
       "Highlander        22\n",
       "Civic             22\n",
       "Silverado         22\n",
       "Fusion            21\n",
       "ML350             20\n",
       "Impreza           20\n",
       "Corolla           20\n",
       "TL                20\n",
       "CRV               20\n",
       "C300              18\n",
       "3 Series          18\n",
       "X6                16\n",
       "M5                15\n",
       "Accord            13\n",
       "RSX               12\n",
       "Name: count, dtype: int64"
      ]
     },
     "execution_count": 198,
     "metadata": {},
     "output_type": "execute_result"
    }
   ],
   "source": [
    "df[\"auto_model\"].value_counts()"
   ]
  },
  {
   "cell_type": "code",
   "execution_count": null,
   "id": "1c9eb696-bfae-4ae6-91b3-93cf200c6fa7",
   "metadata": {},
   "outputs": [],
   "source": [
    "# Observe : this column has 14 types of value  contains "
   ]
  },
  {
   "cell_type": "markdown",
   "id": "ccfb8403-5c8b-4852-89be-d6cbac115a72",
   "metadata": {},
   "source": [
    "# column 38= \"auto_year\"     (Year of the car model)"
   ]
  },
  {
   "cell_type": "code",
   "execution_count": 200,
   "id": "bcf48168-5873-4869-a30b-cd4193f5a8a6",
   "metadata": {},
   "outputs": [
    {
     "data": {
      "text/plain": [
       "dtype('int64')"
      ]
     },
     "execution_count": 200,
     "metadata": {},
     "output_type": "execute_result"
    }
   ],
   "source": [
    "df[\"auto_year\"].dtypes"
   ]
  },
  {
   "cell_type": "code",
   "execution_count": null,
   "id": "6987dc20-1ad2-4956-8edd-80a13ba4919d",
   "metadata": {},
   "outputs": [],
   "source": [
    "# Observe : this column is object Datatype,count/discrete variable and correct Datatypes"
   ]
  },
  {
   "cell_type": "code",
   "execution_count": 202,
   "id": "5d17ce1f-b3ff-4c79-856c-df89a3402c07",
   "metadata": {},
   "outputs": [
    {
     "data": {
      "text/plain": [
       "auto_year\n",
       "1995    56\n",
       "1999    55\n",
       "2005    54\n",
       "2006    53\n",
       "2011    53\n",
       "2007    52\n",
       "2003    51\n",
       "2009    50\n",
       "2010    50\n",
       "2013    49\n",
       "2002    49\n",
       "2015    47\n",
       "1997    46\n",
       "2012    46\n",
       "2008    45\n",
       "2014    44\n",
       "2001    42\n",
       "2000    42\n",
       "1998    40\n",
       "2004    39\n",
       "1996    37\n",
       "Name: count, dtype: int64"
      ]
     },
     "execution_count": 202,
     "metadata": {},
     "output_type": "execute_result"
    }
   ],
   "source": [
    "df[\"auto_year\"].value_counts()"
   ]
  },
  {
   "cell_type": "code",
   "execution_count": 218,
   "id": "ef315422-598b-487b-b7fc-1c3ae331f4bd",
   "metadata": {},
   "outputs": [
    {
     "data": {
      "text/plain": [
       "0"
      ]
     },
     "execution_count": 218,
     "metadata": {},
     "output_type": "execute_result"
    }
   ],
   "source": [
    "df[\"auto_year\"].isnull().sum()"
   ]
  },
  {
   "cell_type": "code",
   "execution_count": null,
   "id": "793e04c3-781e-4de4-9a8b-b7419693ceca",
   "metadata": {},
   "outputs": [],
   "source": [
    "# Observe : in this column there is no null value"
   ]
  },
  {
   "cell_type": "code",
   "execution_count": null,
   "id": "1304eb56-24a1-4452-af45-b58b64bbbdc6",
   "metadata": {},
   "outputs": [],
   "source": [
    "# Observe : this column has  1995 model of value  contains more  or less in 1996"
   ]
  },
  {
   "cell_type": "code",
   "execution_count": 206,
   "id": "fe0e173f-1e9e-403d-8f20-ddfbf53f27e0",
   "metadata": {},
   "outputs": [
    {
     "data": {
      "text/plain": [
       "21"
      ]
     },
     "execution_count": 206,
     "metadata": {},
     "output_type": "execute_result"
    }
   ],
   "source": [
    "df[\"auto_year\"].nunique()"
   ]
  },
  {
   "cell_type": "code",
   "execution_count": null,
   "id": "3249f800-f3cc-4e1e-bb6c-6db898150dbb",
   "metadata": {},
   "outputs": [],
   "source": [
    "# Observe : this column has 21 types of value  contains "
   ]
  },
  {
   "cell_type": "markdown",
   "id": "ca9f13a9-3750-423a-8b06-90bc9fd67a5b",
   "metadata": {},
   "source": [
    "# column 39= \"fraud_reported\""
   ]
  },
  {
   "cell_type": "code",
   "execution_count": 208,
   "id": "5f75d80d-8db2-4a43-a961-b3603de7487f",
   "metadata": {},
   "outputs": [
    {
     "data": {
      "text/plain": [
       "dtype('O')"
      ]
     },
     "execution_count": 208,
     "metadata": {},
     "output_type": "execute_result"
    }
   ],
   "source": [
    "df[\"fraud_reported\"].dtypes"
   ]
  },
  {
   "cell_type": "code",
   "execution_count": 220,
   "id": "7599b477-a33a-4427-8a87-716232c12446",
   "metadata": {},
   "outputs": [],
   "source": [
    "# Observe : this column is object Datatype,discrete variable and correct Datatypes"
   ]
  },
  {
   "cell_type": "code",
   "execution_count": 210,
   "id": "0ef3d7b8-a1ae-438e-8831-ca0b04b1dd34",
   "metadata": {},
   "outputs": [
    {
     "data": {
      "text/plain": [
       "0"
      ]
     },
     "execution_count": 210,
     "metadata": {},
     "output_type": "execute_result"
    }
   ],
   "source": [
    "df[\"fraud_reported\"].isnull().sum()"
   ]
  },
  {
   "cell_type": "code",
   "execution_count": null,
   "id": "172bd1d1-9c28-4480-8c80-a45e4573ed00",
   "metadata": {},
   "outputs": [],
   "source": [
    "# Observe : in this column there is no null value"
   ]
  },
  {
   "cell_type": "code",
   "execution_count": 212,
   "id": "41ad29c2-849c-4cee-976a-9aee31fc7b44",
   "metadata": {},
   "outputs": [
    {
     "data": {
      "text/plain": [
       "fraud_reported\n",
       "N    753\n",
       "Y    247\n",
       "Name: count, dtype: int64"
      ]
     },
     "execution_count": 212,
     "metadata": {},
     "output_type": "execute_result"
    }
   ],
   "source": [
    "df[\"fraud_reported\"].value_counts()"
   ]
  },
  {
   "cell_type": "code",
   "execution_count": null,
   "id": "20e925d7-312b-4021-8349-bd06875c0ef7",
   "metadata": {},
   "outputs": [],
   "source": [
    "# Observe : this column has  N  value  contains more  or less in Y"
   ]
  },
  {
   "cell_type": "code",
   "execution_count": 214,
   "id": "952410c0-8382-478f-ba79-04fa7d72f0a4",
   "metadata": {},
   "outputs": [
    {
     "data": {
      "text/plain": [
       "2"
      ]
     },
     "execution_count": 214,
     "metadata": {},
     "output_type": "execute_result"
    }
   ],
   "source": [
    "df[\"fraud_reported\"].nunique()"
   ]
  },
  {
   "cell_type": "code",
   "execution_count": null,
   "id": "8cd412d9-1c58-4136-84e6-d985a45f9c40",
   "metadata": {},
   "outputs": [],
   "source": [
    "# Observe : this column has 2 types of value  contains "
   ]
  },
  {
   "cell_type": "code",
   "execution_count": 22,
   "id": "cb944687-9137-43bd-b80b-48b3372cdf7c",
   "metadata": {},
   "outputs": [],
   "source": [
    "# seperate the continuous ,timesries,discrete variable\n",
    "continuous=[\"age\",\"policy_annual_premium\",\"capital-gains\",\"capital-loss\",\"total_claim_amount\",\"injury_claim\",\n",
    "           \"property_claim\",\"vehicle_claim\"]\n",
    "timeseries=[\"incident_date\"]\n",
    "discrete=[\"months_as_customer\",\"policy_state\",\"policy_csl\",\"policy_deductable\",\"umbrella_limit\",\"insured_sex\",\n",
    "        \"insured_education_level\",\"insured_occupation\",\"insured_hobbies\",\"insured_relationship\",\"incident_type\"\n",
    "        ,\"collision_type\", \"incident_severity\",\"authorities_contacted\",\"incident_state\",\"incident_city\",\n",
    "        \"incident_hour_of_the_day\",\"number_of_vehicles_involved\",\"property_damage\",\"bodily_injuries\",\n",
    "        \"bodily_injuries\" ,\"witnesses\",\"police_report_available\",\"auto_make\",\"auto_model\",\"auto_year\",\n",
    "          \"fraud_reported\"]"
   ]
  },
  {
   "cell_type": "code",
   "execution_count": 34,
   "id": "a45844ce-4bc5-40ee-b617-e82957bf3aa6",
   "metadata": {},
   "outputs": [
    {
     "data": {
      "text/plain": [
       "<Axes: >"
      ]
     },
     "execution_count": 34,
     "metadata": {},
     "output_type": "execute_result"
    },
    {
     "data": {
      "image/png": "[encoded data removed]",
      "text/plain": [
       "<Figure size 640x480 with 1 Axes>"
      ]
     },
     "metadata": {},
     "output_type": "display_data"
    }
   ],
   "source": [
    "sns.boxplot(df[[\"age\",\"policy_annual_premium\",\"capital-gains\",\"capital-loss\"]])"
   ]
  },
  {
   "cell_type": "code",
   "execution_count": null,
   "id": "f41177e8-842f-4fbe-b84e-b504b8cc6c5c",
   "metadata": {},
   "outputs": [],
   "source": [
    "# Observe :- some outliers are available"
   ]
  },
  {
   "cell_type": "code",
   "execution_count": 32,
   "id": "ff83e67a-9633-4c61-8ac2-b9ae6e755e73",
   "metadata": {},
   "outputs": [
    {
     "data": {
      "text/plain": [
       "<Axes: >"
      ]
     },
     "execution_count": 32,
     "metadata": {},
     "output_type": "execute_result"
    },
    {
     "data": {
      "image/png": "[encoded data removed]",
      "text/plain": [
       "<Figure size 640x480 with 1 Axes>"
      ]
     },
     "metadata": {},
     "output_type": "display_data"
    }
   ],
   "source": [
    "sns.boxplot(df[[\"total_claim_amount\",\"injury_claim\",\"property_claim\",\"vehicle_claim\"]])"
   ]
  },
  {
   "cell_type": "code",
   "execution_count": 50,
   "id": "698f6972-319e-44a3-9485-4b05cfcf929a",
   "metadata": {},
   "outputs": [],
   "source": [
    "# Observe :- some outliers are available"
   ]
  },
  {
   "cell_type": "markdown",
   "id": "38bd0138-f553-48dd-93bb-216170c12e3d",
   "metadata": {},
   "source": [
    "# Data Cleaning"
   ]
  },
  {
   "cell_type": "code",
   "execution_count": null,
   "id": "a73e5cbc-08b3-4ede-8f69-cbbe4bf0c5a8",
   "metadata": {},
   "outputs": [],
   "source": [
    "# 1>treat wrong Data types   \n",
    "#(umbrella_limit column has wrong data,collision_type,property_damage,police_report_available)"
   ]
  },
  {
   "cell_type": "code",
   "execution_count": 64,
   "id": "490a88d5-b154-48ba-9985-7358fc2cf882",
   "metadata": {},
   "outputs": [],
   "source": [
    "df.loc[df[\"umbrella_limit\"]==-1000000,\"umbrella_limit\"]=0"
   ]
  },
  {
   "cell_type": "code",
   "execution_count": null,
   "id": "c7afa5c4-1623-4fe6-8244-0de6012000a4",
   "metadata": {},
   "outputs": [],
   "source": [
    "# Reason :- Umbrella_limit provides additional liability coverage,\n",
    "#so the limit should always be zero or positive — never negative."
   ]
  },
  {
   "cell_type": "code",
   "execution_count": 94,
   "id": "d7fe72f5-94e2-4ce3-9f2a-1b0a8237d14c",
   "metadata": {},
   "outputs": [],
   "source": [
    "df['collision_type'] = df['collision_type'].replace('?', 'Unknown')"
   ]
  },
  {
   "cell_type": "code",
   "execution_count": null,
   "id": "374a070f-9d2a-435b-8bbc-52e0d653fdfe",
   "metadata": {},
   "outputs": [],
   "source": [
    "# Reason:- Replace ? with a meaningful value like \"Unknown\""
   ]
  },
  {
   "cell_type": "code",
   "execution_count": 100,
   "id": "46906881-c6fb-4b1c-9efa-1fbc0ea2484b",
   "metadata": {},
   "outputs": [],
   "source": [
    "df[\"property_damage\"]=df[\"property_damage\"].replace(\"?\",\"Unkown\")"
   ]
  },
  {
   "cell_type": "code",
   "execution_count": null,
   "id": "fa1c2344-bb6a-4303-8752-faad673332ca",
   "metadata": {},
   "outputs": [],
   "source": [
    "# Reason:- Replace ? with a meaningful value like \"Unknown\""
   ]
  },
  {
   "cell_type": "code",
   "execution_count": 395,
   "id": "087d7f0b-e38d-45e8-8258-23c570cb9090",
   "metadata": {},
   "outputs": [],
   "source": [
    "df[\"police_report_available\"]=df[\"police_report_available\"].replace(\"?\",\"Unknown\")"
   ]
  },
  {
   "cell_type": "code",
   "execution_count": null,
   "id": "5d067a3d-4623-47bc-8297-103335ac0d4d",
   "metadata": {},
   "outputs": [],
   "source": [
    "# Reason:- Replace ? with a meaningful value like \"Unknown\""
   ]
  },
  {
   "cell_type": "code",
   "execution_count": null,
   "id": "6c619343-c9dd-4932-bdfc-245af3304325",
   "metadata": {},
   "outputs": [],
   "source": [
    "# 2>Treat missing value    (\"authorities_contacted\")"
   ]
  },
  {
   "cell_type": "code",
   "execution_count": 78,
   "id": "a2ca80c8-ff9f-4dd2-868e-32f570868323",
   "metadata": {},
   "outputs": [
    {
     "data": {
      "text/plain": [
       "0"
      ]
     },
     "execution_count": 78,
     "metadata": {},
     "output_type": "execute_result"
    }
   ],
   "source": [
    "df[\"authorities_contacted\"].fillna(\"Uknown\",inplace=True)\n",
    "df[\"authorities_contacted\"].isnull().sum()"
   ]
  },
  {
   "cell_type": "code",
   "execution_count": null,
   "id": "9730bc87-b14c-47b9-9adf-97511b928858",
   "metadata": {},
   "outputs": [],
   "source": [
    "# it’s safe, interpretable, and doesn’t guess. that,s why i can not fill with mode \n",
    "# fill with unknown"
   ]
  },
  {
   "cell_type": "code",
   "execution_count": null,
   "id": "97a06730-4f30-4c09-8998-d27d8f1a29b0",
   "metadata": {},
   "outputs": [],
   "source": [
    "# 3>Dimension reduction"
   ]
  },
  {
   "cell_type": "code",
   "execution_count": 295,
   "id": "c9531403-bd3b-4275-9254-678602918bc7",
   "metadata": {},
   "outputs": [],
   "source": [
    "df.drop(columns=[\"policy_bind_date\",\"insured_zip\",\"incident_location\"],inplace=True)"
   ]
  },
  {
   "cell_type": "code",
   "execution_count": null,
   "id": "d8a1d6a1-66f8-488f-ba28-b45bc1095590",
   "metadata": {},
   "outputs": [],
   "source": [
    "# Reason : - almost each rows have unique value  that,s  simply drop them"
   ]
  },
  {
   "cell_type": "code",
   "execution_count": null,
   "id": "900a8d07-0260-486f-a5e0-58812fde081f",
   "metadata": {},
   "outputs": [],
   "source": [
    "# treat outliers"
   ]
  },
  {
   "cell_type": "code",
   "execution_count": null,
   "id": "2b4b25a9-62ff-4611-8bd9-57fd52265492",
   "metadata": {},
   "outputs": [],
   "source": [
    "#Retain outliers when they might carry meaningful, real-world insights — especially in fraud detection"
   ]
  },
  {
   "cell_type": "markdown",
   "id": "42757bdf-da8f-4997-8377-90b0937df641",
   "metadata": {},
   "source": [
    "# Data Analysis and Visualization"
   ]
  },
  {
   "cell_type": "code",
   "execution_count": null,
   "id": "626ae134-6c74-465c-9b46-711e4236fed5",
   "metadata": {},
   "outputs": [],
   "source": [
    "# Q1. What is the distribution of fraud vs. non-fraud cases?"
   ]
  },
  {
   "cell_type": "code",
   "execution_count": 159,
   "id": "dd1844db-669b-4d1d-8c0e-5a87e025dec5",
   "metadata": {},
   "outputs": [
    {
     "data": {
      "text/plain": [
       "fraud_reported\n",
       "N    75.3\n",
       "Y    24.7\n",
       "Name: count, dtype: float64"
      ]
     },
     "execution_count": 159,
     "metadata": {},
     "output_type": "execute_result"
    }
   ],
   "source": [
    "df[\"fraud_reported\"].value_counts()/len(df[\"fraud_reported\"])*100"
   ]
  },
  {
   "cell_type": "code",
   "execution_count": 383,
   "id": "1b3262b3-395a-4c8e-bbcf-640505aa14a4",
   "metadata": {},
   "outputs": [
    {
     "data": {
      "image/png": "[encoded data removed]",
      "text/plain": [
       "<Figure size 640x480 with 1 Axes>"
      ]
     },
     "metadata": {},
     "output_type": "display_data"
    }
   ],
   "source": [
    "plt.pie(df[\"fraud_reported\"].value_counts(),labels=[\"Non-fraud\",\"fraud\"],autopct=\"%1.2f%%\")\n",
    "plt.title(\"distribution of fraud vs. non-fraud\")\n",
    "plt.savefig(\"froud.jpg\")\n",
    "plt.show()"
   ]
  },
  {
   "cell_type": "code",
   "execution_count": null,
   "id": "30cf3418-a15b-4eff-a085-7388f7e7fb42",
   "metadata": {},
   "outputs": [],
   "source": [
    "# Q2. How does total claim amount differ for fraud vs. non-fraud?"
   ]
  },
  {
   "cell_type": "code",
   "execution_count": 187,
   "id": "5c237018-a742-44b3-95c2-7c944c89eaf7",
   "metadata": {},
   "outputs": [
    {
     "data": {
      "text/plain": [
       "fraud_reported\n",
       "N    50288.605578\n",
       "Y    60302.105263\n",
       "Name: total_claim_amount, dtype: float64"
      ]
     },
     "execution_count": 187,
     "metadata": {},
     "output_type": "execute_result"
    }
   ],
   "source": [
    "df.groupby(\"fraud_reported\")[\"total_claim_amount\"].mean()"
   ]
  },
  {
   "cell_type": "code",
   "execution_count": 337,
   "id": "df3ae72d-50ed-4f9a-8bd4-7eff2604938c",
   "metadata": {},
   "outputs": [
    {
     "data": {
      "image/png": "[encoded data removed]",
      "text/plain": [
       "<Figure size 511.111x500 with 1 Axes>"
      ]
     },
     "metadata": {},
     "output_type": "display_data"
    }
   ],
   "source": [
    "sns.catplot(x=\"fraud_reported\",y=\"total_claim_amount\",data=df,kind=\"bar\")\n",
    "plt.title(\"total claim amount differ for fraud vs. non-fraud\")\n",
    "plt.savefig(\"claim_amount.jpg\")\n",
    "plt.show()"
   ]
  },
  {
   "cell_type": "code",
   "execution_count": null,
   "id": "7c740df0-a148-45dc-9125-ef582420fa3a",
   "metadata": {},
   "outputs": [],
   "source": [
    "# answer: -Fraudulent claims tend to have higher total claim amounts on average."
   ]
  },
  {
   "cell_type": "code",
   "execution_count": null,
   "id": "3f676842-e67b-473b-87bd-c0cd1a24bf4a",
   "metadata": {},
   "outputs": [],
   "source": [
    "#Q3. Which incident types are more likely to be reported as fraud?"
   ]
  },
  {
   "cell_type": "code",
   "execution_count": null,
   "id": "67f81392-592c-4980-a24b-1f5750080a8f",
   "metadata": {},
   "outputs": [],
   "source": [
    "corr=[\"witnesses\",\"\"]"
   ]
  },
  {
   "cell_type": "code",
   "execution_count": 197,
   "id": "ae600ee9-259a-44db-a733-8b273482a5fc",
   "metadata": {},
   "outputs": [
    {
     "data": {
      "text/html": [
       "<div>\n",
       "<style scoped>\n",
       "    .dataframe tbody tr th:only-of-type {\n",
       "        vertical-align: middle;\n",
       "    }\n",
       "\n",
       "    .dataframe tbody tr th {\n",
       "        vertical-align: top;\n",
       "    }\n",
       "\n",
       "    .dataframe thead th {\n",
       "        text-align: right;\n",
       "    }\n",
       "</style>\n",
       "<table border=\"1\" class=\"dataframe\">\n",
       "  <thead>\n",
       "    <tr style=\"text-align: right;\">\n",
       "      <th>fraud_reported</th>\n",
       "      <th>N</th>\n",
       "      <th>Y</th>\n",
       "    </tr>\n",
       "    <tr>\n",
       "      <th>policy_state</th>\n",
       "      <th></th>\n",
       "      <th></th>\n",
       "    </tr>\n",
       "  </thead>\n",
       "  <tbody>\n",
       "    <tr>\n",
       "      <th>IL</th>\n",
       "      <td>261</td>\n",
       "      <td>77</td>\n",
       "    </tr>\n",
       "    <tr>\n",
       "      <th>IN</th>\n",
       "      <td>231</td>\n",
       "      <td>79</td>\n",
       "    </tr>\n",
       "    <tr>\n",
       "      <th>OH</th>\n",
       "      <td>261</td>\n",
       "      <td>91</td>\n",
       "    </tr>\n",
       "  </tbody>\n",
       "</table>\n",
       "</div>"
      ],
      "text/plain": [
       "fraud_reported    N   Y\n",
       "policy_state           \n",
       "IL              261  77\n",
       "IN              231  79\n",
       "OH              261  91"
      ]
     },
     "execution_count": 197,
     "metadata": {},
     "output_type": "execute_result"
    }
   ],
   "source": [
    "pd.crosstab(df[\"policy_state\"],df[\"fraud_reported\"])"
   ]
  },
  {
   "cell_type": "code",
   "execution_count": 385,
   "id": "f679eadf-65e6-45a5-9cbf-35370a475215",
   "metadata": {},
   "outputs": [
    {
     "data": {
      "image/png": "[encoded data removed]",
      "text/plain": [
       "<Figure size 511.111x500 with 1 Axes>"
      ]
     },
     "metadata": {},
     "output_type": "display_data"
    }
   ],
   "source": [
    "sns.catplot(y=\"fraud_reported\",x=\"policy_state\",data=df,kind=\"bar\",color=\"green\")\n",
    "plt.title(\"incident types are more likely to be reported as fraud\")\n",
    "plt.savefig(\"froud.jpg\")\n",
    "plt.show()"
   ]
  },
  {
   "cell_type": "code",
   "execution_count": null,
   "id": "0084638d-a0ff-4e68-90fd-c63f0c540f05",
   "metadata": {},
   "outputs": [],
   "source": [
    "# answer :- IL show higher froud"
   ]
  },
  {
   "cell_type": "code",
   "execution_count": null,
   "id": "675b5f7e-79e3-454c-9383-ef12df5c0cda",
   "metadata": {},
   "outputs": [],
   "source": [
    "#Q4. Are older or newer cars more involved in fraud claims?"
   ]
  },
  {
   "cell_type": "code",
   "execution_count": 219,
   "id": "8288e49a-044b-4d4b-86d3-c9f6da68babd",
   "metadata": {},
   "outputs": [
    {
     "data": {
      "text/html": [
       "<div>\n",
       "<style scoped>\n",
       "    .dataframe tbody tr th:only-of-type {\n",
       "        vertical-align: middle;\n",
       "    }\n",
       "\n",
       "    .dataframe tbody tr th {\n",
       "        vertical-align: top;\n",
       "    }\n",
       "\n",
       "    .dataframe thead th {\n",
       "        text-align: right;\n",
       "    }\n",
       "</style>\n",
       "<table border=\"1\" class=\"dataframe\">\n",
       "  <thead>\n",
       "    <tr style=\"text-align: right;\">\n",
       "      <th>fraud_reported</th>\n",
       "      <th>N</th>\n",
       "      <th>Y</th>\n",
       "    </tr>\n",
       "    <tr>\n",
       "      <th>auto_year</th>\n",
       "      <th></th>\n",
       "      <th></th>\n",
       "    </tr>\n",
       "  </thead>\n",
       "  <tbody>\n",
       "    <tr>\n",
       "      <th>1995</th>\n",
       "      <td>43</td>\n",
       "      <td>13</td>\n",
       "    </tr>\n",
       "    <tr>\n",
       "      <th>1996</th>\n",
       "      <td>23</td>\n",
       "      <td>14</td>\n",
       "    </tr>\n",
       "    <tr>\n",
       "      <th>1997</th>\n",
       "      <td>34</td>\n",
       "      <td>12</td>\n",
       "    </tr>\n",
       "    <tr>\n",
       "      <th>1998</th>\n",
       "      <td>33</td>\n",
       "      <td>7</td>\n",
       "    </tr>\n",
       "    <tr>\n",
       "      <th>1999</th>\n",
       "      <td>45</td>\n",
       "      <td>10</td>\n",
       "    </tr>\n",
       "    <tr>\n",
       "      <th>2000</th>\n",
       "      <td>31</td>\n",
       "      <td>11</td>\n",
       "    </tr>\n",
       "    <tr>\n",
       "      <th>2001</th>\n",
       "      <td>33</td>\n",
       "      <td>9</td>\n",
       "    </tr>\n",
       "    <tr>\n",
       "      <th>2002</th>\n",
       "      <td>39</td>\n",
       "      <td>10</td>\n",
       "    </tr>\n",
       "    <tr>\n",
       "      <th>2003</th>\n",
       "      <td>42</td>\n",
       "      <td>9</td>\n",
       "    </tr>\n",
       "    <tr>\n",
       "      <th>2004</th>\n",
       "      <td>23</td>\n",
       "      <td>16</td>\n",
       "    </tr>\n",
       "    <tr>\n",
       "      <th>2005</th>\n",
       "      <td>42</td>\n",
       "      <td>12</td>\n",
       "    </tr>\n",
       "    <tr>\n",
       "      <th>2006</th>\n",
       "      <td>39</td>\n",
       "      <td>14</td>\n",
       "    </tr>\n",
       "    <tr>\n",
       "      <th>2007</th>\n",
       "      <td>34</td>\n",
       "      <td>18</td>\n",
       "    </tr>\n",
       "    <tr>\n",
       "      <th>2008</th>\n",
       "      <td>35</td>\n",
       "      <td>10</td>\n",
       "    </tr>\n",
       "    <tr>\n",
       "      <th>2009</th>\n",
       "      <td>39</td>\n",
       "      <td>11</td>\n",
       "    </tr>\n",
       "    <tr>\n",
       "      <th>2010</th>\n",
       "      <td>43</td>\n",
       "      <td>7</td>\n",
       "    </tr>\n",
       "    <tr>\n",
       "      <th>2011</th>\n",
       "      <td>36</td>\n",
       "      <td>17</td>\n",
       "    </tr>\n",
       "    <tr>\n",
       "      <th>2012</th>\n",
       "      <td>37</td>\n",
       "      <td>9</td>\n",
       "    </tr>\n",
       "    <tr>\n",
       "      <th>2013</th>\n",
       "      <td>34</td>\n",
       "      <td>15</td>\n",
       "    </tr>\n",
       "    <tr>\n",
       "      <th>2014</th>\n",
       "      <td>32</td>\n",
       "      <td>12</td>\n",
       "    </tr>\n",
       "    <tr>\n",
       "      <th>2015</th>\n",
       "      <td>36</td>\n",
       "      <td>11</td>\n",
       "    </tr>\n",
       "  </tbody>\n",
       "</table>\n",
       "</div>"
      ],
      "text/plain": [
       "fraud_reported   N   Y\n",
       "auto_year             \n",
       "1995            43  13\n",
       "1996            23  14\n",
       "1997            34  12\n",
       "1998            33   7\n",
       "1999            45  10\n",
       "2000            31  11\n",
       "2001            33   9\n",
       "2002            39  10\n",
       "2003            42   9\n",
       "2004            23  16\n",
       "2005            42  12\n",
       "2006            39  14\n",
       "2007            34  18\n",
       "2008            35  10\n",
       "2009            39  11\n",
       "2010            43   7\n",
       "2011            36  17\n",
       "2012            37   9\n",
       "2013            34  15\n",
       "2014            32  12\n",
       "2015            36  11"
      ]
     },
     "execution_count": 219,
     "metadata": {},
     "output_type": "execute_result"
    }
   ],
   "source": [
    "pd.crosstab(df[\"auto_year\"],df[\"fraud_reported\"])"
   ]
  },
  {
   "cell_type": "code",
   "execution_count": null,
   "id": "bad98962-ccb3-450e-91e1-a412a50ed52c",
   "metadata": {},
   "outputs": [],
   "source": [
    "# answer:-involved in fraud claims tend to be slightly older than newer not involved."
   ]
  },
  {
   "cell_type": "code",
   "execution_count": null,
   "id": "a21a4c17-d8c4-409a-9d15-68037324a459",
   "metadata": {},
   "outputs": [],
   "source": [
    "#Q5. Does gender influence fraud reporting?"
   ]
  },
  {
   "cell_type": "code",
   "execution_count": 231,
   "id": "41362bd4-2281-46f4-8d95-425ce7f50417",
   "metadata": {},
   "outputs": [
    {
     "data": {
      "text/html": [
       "<div>\n",
       "<style scoped>\n",
       "    .dataframe tbody tr th:only-of-type {\n",
       "        vertical-align: middle;\n",
       "    }\n",
       "\n",
       "    .dataframe tbody tr th {\n",
       "        vertical-align: top;\n",
       "    }\n",
       "\n",
       "    .dataframe thead th {\n",
       "        text-align: right;\n",
       "    }\n",
       "</style>\n",
       "<table border=\"1\" class=\"dataframe\">\n",
       "  <thead>\n",
       "    <tr style=\"text-align: right;\">\n",
       "      <th>fraud_reported</th>\n",
       "      <th>N</th>\n",
       "      <th>Y</th>\n",
       "    </tr>\n",
       "    <tr>\n",
       "      <th>insured_sex</th>\n",
       "      <th></th>\n",
       "      <th></th>\n",
       "    </tr>\n",
       "  </thead>\n",
       "  <tbody>\n",
       "    <tr>\n",
       "      <th>FEMALE</th>\n",
       "      <td>411</td>\n",
       "      <td>126</td>\n",
       "    </tr>\n",
       "    <tr>\n",
       "      <th>MALE</th>\n",
       "      <td>342</td>\n",
       "      <td>121</td>\n",
       "    </tr>\n",
       "  </tbody>\n",
       "</table>\n",
       "</div>"
      ],
      "text/plain": [
       "fraud_reported    N    Y\n",
       "insured_sex             \n",
       "FEMALE          411  126\n",
       "MALE            342  121"
      ]
     },
     "execution_count": 231,
     "metadata": {},
     "output_type": "execute_result"
    }
   ],
   "source": [
    "pd.crosstab(df[\"insured_sex\"],df[\"fraud_reported\"])"
   ]
  },
  {
   "cell_type": "code",
   "execution_count": null,
   "id": "58475a8f-88db-4e34-80dc-61b9c0f3a110",
   "metadata": {},
   "outputs": [],
   "source": [
    "# answer:- less difference between them"
   ]
  },
  {
   "cell_type": "code",
   "execution_count": null,
   "id": "b35548af-3d8b-484a-8c17-6ae818b6e92d",
   "metadata": {},
   "outputs": [],
   "source": [
    "# Q6 which is the higher premiums relate to fraud?"
   ]
  },
  {
   "cell_type": "code",
   "execution_count": 305,
   "id": "f39e535e-8772-4cfe-9640-6956c1fb412c",
   "metadata": {},
   "outputs": [
    {
     "data": {
      "text/plain": [
       "fraud_reported\n",
       "N    2047.59\n",
       "Y    1935.85\n",
       "Name: policy_annual_premium, dtype: float64"
      ]
     },
     "execution_count": 305,
     "metadata": {},
     "output_type": "execute_result"
    }
   ],
   "source": [
    "df.groupby(\"fraud_reported\")[\"policy_annual_premium\"].max()"
   ]
  },
  {
   "cell_type": "code",
   "execution_count": null,
   "id": "99fb6662-e3eb-403a-9857-39da3499cc00",
   "metadata": {},
   "outputs": [],
   "source": [
    "# answer= 1935.85"
   ]
  },
  {
   "cell_type": "code",
   "execution_count": 389,
   "id": "48ed6b1c-576c-4e4b-be6b-3849b288d1ef",
   "metadata": {},
   "outputs": [
    {
     "data": {
      "image/png": "[encoded data removed]",
      "text/plain": [
       "<Figure size 511.111x500 with 1 Axes>"
      ]
     },
     "metadata": {},
     "output_type": "display_data"
    }
   ],
   "source": [
    "sns.catplot(x=\"fraud_reported\",y=\"policy_annual_premium\",data=df,kind=\"box\")\n",
    "plt.title(\"higher premiums relate to fraud\")\n",
    "plt.savefig(\"froud.jpg\")\n",
    "plt.show()"
   ]
  },
  {
   "cell_type": "code",
   "execution_count": null,
   "id": "164bf615-60c1-4b05-96d9-47be0ec6d48e",
   "metadata": {},
   "outputs": [],
   "source": [
    "#Q7. Which auto makes are more frequently associated with fraud?"
   ]
  },
  {
   "cell_type": "code",
   "execution_count": 251,
   "id": "00291d3b-17d9-4f54-8bf2-ec9c4f9a3ce6",
   "metadata": {},
   "outputs": [
    {
     "data": {
      "text/html": [
       "<div>\n",
       "<style scoped>\n",
       "    .dataframe tbody tr th:only-of-type {\n",
       "        vertical-align: middle;\n",
       "    }\n",
       "\n",
       "    .dataframe tbody tr th {\n",
       "        vertical-align: top;\n",
       "    }\n",
       "\n",
       "    .dataframe thead th {\n",
       "        text-align: right;\n",
       "    }\n",
       "</style>\n",
       "<table border=\"1\" class=\"dataframe\">\n",
       "  <thead>\n",
       "    <tr style=\"text-align: right;\">\n",
       "      <th>fraud_reported</th>\n",
       "      <th>N</th>\n",
       "      <th>Y</th>\n",
       "    </tr>\n",
       "    <tr>\n",
       "      <th>auto_make</th>\n",
       "      <th></th>\n",
       "      <th></th>\n",
       "    </tr>\n",
       "  </thead>\n",
       "  <tbody>\n",
       "    <tr>\n",
       "      <th>Accura</th>\n",
       "      <td>55</td>\n",
       "      <td>13</td>\n",
       "    </tr>\n",
       "    <tr>\n",
       "      <th>Audi</th>\n",
       "      <td>48</td>\n",
       "      <td>21</td>\n",
       "    </tr>\n",
       "    <tr>\n",
       "      <th>BMW</th>\n",
       "      <td>52</td>\n",
       "      <td>20</td>\n",
       "    </tr>\n",
       "    <tr>\n",
       "      <th>Chevrolet</th>\n",
       "      <td>55</td>\n",
       "      <td>21</td>\n",
       "    </tr>\n",
       "    <tr>\n",
       "      <th>Dodge</th>\n",
       "      <td>60</td>\n",
       "      <td>20</td>\n",
       "    </tr>\n",
       "    <tr>\n",
       "      <th>Ford</th>\n",
       "      <td>50</td>\n",
       "      <td>22</td>\n",
       "    </tr>\n",
       "    <tr>\n",
       "      <th>Honda</th>\n",
       "      <td>41</td>\n",
       "      <td>14</td>\n",
       "    </tr>\n",
       "    <tr>\n",
       "      <th>Jeep</th>\n",
       "      <td>56</td>\n",
       "      <td>11</td>\n",
       "    </tr>\n",
       "    <tr>\n",
       "      <th>Mercedes</th>\n",
       "      <td>43</td>\n",
       "      <td>22</td>\n",
       "    </tr>\n",
       "    <tr>\n",
       "      <th>Nissan</th>\n",
       "      <td>64</td>\n",
       "      <td>14</td>\n",
       "    </tr>\n",
       "    <tr>\n",
       "      <th>Saab</th>\n",
       "      <td>62</td>\n",
       "      <td>18</td>\n",
       "    </tr>\n",
       "    <tr>\n",
       "      <th>Suburu</th>\n",
       "      <td>61</td>\n",
       "      <td>19</td>\n",
       "    </tr>\n",
       "    <tr>\n",
       "      <th>Toyota</th>\n",
       "      <td>57</td>\n",
       "      <td>13</td>\n",
       "    </tr>\n",
       "    <tr>\n",
       "      <th>Volkswagen</th>\n",
       "      <td>49</td>\n",
       "      <td>19</td>\n",
       "    </tr>\n",
       "  </tbody>\n",
       "</table>\n",
       "</div>"
      ],
      "text/plain": [
       "fraud_reported   N   Y\n",
       "auto_make             \n",
       "Accura          55  13\n",
       "Audi            48  21\n",
       "BMW             52  20\n",
       "Chevrolet       55  21\n",
       "Dodge           60  20\n",
       "Ford            50  22\n",
       "Honda           41  14\n",
       "Jeep            56  11\n",
       "Mercedes        43  22\n",
       "Nissan          64  14\n",
       "Saab            62  18\n",
       "Suburu          61  19\n",
       "Toyota          57  13\n",
       "Volkswagen      49  19"
      ]
     },
     "execution_count": 251,
     "metadata": {},
     "output_type": "execute_result"
    }
   ],
   "source": [
    "pd.crosstab(df[\"auto_make\"],df[\"fraud_reported\"])"
   ]
  },
  {
   "cell_type": "code",
   "execution_count": null,
   "id": "f7e72374-226d-47d3-b979-489b4f0b3c92",
   "metadata": {},
   "outputs": [],
   "source": [
    "# answer:-Ford,mercedes"
   ]
  },
  {
   "cell_type": "code",
   "execution_count": null,
   "id": "1b346157-e0eb-4c81-9c35-3b093cd0abed",
   "metadata": {},
   "outputs": [],
   "source": [
    "# Q8. Does the presence of a police report impact fraud detection?"
   ]
  },
  {
   "cell_type": "code",
   "execution_count": 397,
   "id": "d97e3832-d587-4942-aff6-20e0e7673fbd",
   "metadata": {},
   "outputs": [
    {
     "data": {
      "text/html": [
       "<div>\n",
       "<style scoped>\n",
       "    .dataframe tbody tr th:only-of-type {\n",
       "        vertical-align: middle;\n",
       "    }\n",
       "\n",
       "    .dataframe tbody tr th {\n",
       "        vertical-align: top;\n",
       "    }\n",
       "\n",
       "    .dataframe thead th {\n",
       "        text-align: right;\n",
       "    }\n",
       "</style>\n",
       "<table border=\"1\" class=\"dataframe\">\n",
       "  <thead>\n",
       "    <tr style=\"text-align: right;\">\n",
       "      <th>fraud_reported</th>\n",
       "      <th>N</th>\n",
       "      <th>Y</th>\n",
       "    </tr>\n",
       "    <tr>\n",
       "      <th>police_report_available</th>\n",
       "      <th></th>\n",
       "      <th></th>\n",
       "    </tr>\n",
       "  </thead>\n",
       "  <tbody>\n",
       "    <tr>\n",
       "      <th>NO</th>\n",
       "      <td>257</td>\n",
       "      <td>86</td>\n",
       "    </tr>\n",
       "    <tr>\n",
       "      <th>Unknown</th>\n",
       "      <td>254</td>\n",
       "      <td>89</td>\n",
       "    </tr>\n",
       "    <tr>\n",
       "      <th>YES</th>\n",
       "      <td>242</td>\n",
       "      <td>72</td>\n",
       "    </tr>\n",
       "  </tbody>\n",
       "</table>\n",
       "</div>"
      ],
      "text/plain": [
       "fraud_reported             N   Y\n",
       "police_report_available         \n",
       "NO                       257  86\n",
       "Unknown                  254  89\n",
       "YES                      242  72"
      ]
     },
     "execution_count": 397,
     "metadata": {},
     "output_type": "execute_result"
    }
   ],
   "source": [
    "pd.crosstab(df[\"police_report_available\"],df[\"fraud_reported\"])"
   ]
  },
  {
   "cell_type": "code",
   "execution_count": null,
   "id": "a43cd5b3-f07f-4339-8257-c7e75bb3f299",
   "metadata": {},
   "outputs": [],
   "source": [
    "# answer:- less impact on froud detection"
   ]
  },
  {
   "cell_type": "code",
   "execution_count": null,
   "id": "e6800862-ef84-49e8-8621-b61d9d554102",
   "metadata": {},
   "outputs": [],
   "source": [
    "# Q9 How many witnesses are present in fraud cases?"
   ]
  },
  {
   "cell_type": "code",
   "execution_count": 285,
   "id": "360bd964-e65d-45a2-bb9d-1f2e2f36216a",
   "metadata": {},
   "outputs": [
    {
     "data": {
      "text/plain": [
       "fraud_reported\n",
       "N    753\n",
       "Y    247\n",
       "dtype: int64"
      ]
     },
     "execution_count": 285,
     "metadata": {},
     "output_type": "execute_result"
    }
   ],
   "source": [
    "pd.crosstab(df[\"witnesses\"],df[\"fraud_reported\"]).sum()"
   ]
  },
  {
   "cell_type": "code",
   "execution_count": null,
   "id": "acb90d55-9146-46db-a169-2b1442a12223",
   "metadata": {},
   "outputs": [],
   "source": [
    "# answer:- 247"
   ]
  },
  {
   "cell_type": "code",
   "execution_count": 327,
   "id": "d5ae88ac-ea6d-4b63-8fef-dd2482ce34fe",
   "metadata": {},
   "outputs": [
    {
     "data": {
      "text/html": [
       "<div>\n",
       "<style scoped>\n",
       "    .dataframe tbody tr th:only-of-type {\n",
       "        vertical-align: middle;\n",
       "    }\n",
       "\n",
       "    .dataframe tbody tr th {\n",
       "        vertical-align: top;\n",
       "    }\n",
       "\n",
       "    .dataframe thead th {\n",
       "        text-align: right;\n",
       "    }\n",
       "</style>\n",
       "<table border=\"1\" class=\"dataframe\">\n",
       "  <thead>\n",
       "    <tr style=\"text-align: right;\">\n",
       "      <th></th>\n",
       "      <th>age</th>\n",
       "      <th>policy_annual_premium</th>\n",
       "      <th>capital-gains</th>\n",
       "      <th>capital-loss</th>\n",
       "      <th>total_claim_amount</th>\n",
       "      <th>injury_claim</th>\n",
       "      <th>property_claim</th>\n",
       "      <th>vehicle_claim</th>\n",
       "    </tr>\n",
       "  </thead>\n",
       "  <tbody>\n",
       "    <tr>\n",
       "      <th>age</th>\n",
       "      <td>1.000000</td>\n",
       "      <td>0.014404</td>\n",
       "      <td>-0.007075</td>\n",
       "      <td>0.007368</td>\n",
       "      <td>0.069863</td>\n",
       "      <td>0.075522</td>\n",
       "      <td>0.060898</td>\n",
       "      <td>0.062588</td>\n",
       "    </tr>\n",
       "    <tr>\n",
       "      <th>policy_annual_premium</th>\n",
       "      <td>0.014404</td>\n",
       "      <td>1.000000</td>\n",
       "      <td>-0.013738</td>\n",
       "      <td>0.023547</td>\n",
       "      <td>0.009094</td>\n",
       "      <td>-0.017633</td>\n",
       "      <td>-0.011654</td>\n",
       "      <td>0.020246</td>\n",
       "    </tr>\n",
       "    <tr>\n",
       "      <th>capital-gains</th>\n",
       "      <td>-0.007075</td>\n",
       "      <td>-0.013738</td>\n",
       "      <td>1.000000</td>\n",
       "      <td>-0.046904</td>\n",
       "      <td>0.015980</td>\n",
       "      <td>0.025934</td>\n",
       "      <td>-0.000779</td>\n",
       "      <td>0.015836</td>\n",
       "    </tr>\n",
       "    <tr>\n",
       "      <th>capital-loss</th>\n",
       "      <td>0.007368</td>\n",
       "      <td>0.023547</td>\n",
       "      <td>-0.046904</td>\n",
       "      <td>1.000000</td>\n",
       "      <td>-0.036060</td>\n",
       "      <td>-0.046060</td>\n",
       "      <td>-0.022863</td>\n",
       "      <td>-0.032665</td>\n",
       "    </tr>\n",
       "    <tr>\n",
       "      <th>total_claim_amount</th>\n",
       "      <td>0.069863</td>\n",
       "      <td>0.009094</td>\n",
       "      <td>0.015980</td>\n",
       "      <td>-0.036060</td>\n",
       "      <td>1.000000</td>\n",
       "      <td>0.805025</td>\n",
       "      <td>0.810686</td>\n",
       "      <td>0.982773</td>\n",
       "    </tr>\n",
       "    <tr>\n",
       "      <th>injury_claim</th>\n",
       "      <td>0.075522</td>\n",
       "      <td>-0.017633</td>\n",
       "      <td>0.025934</td>\n",
       "      <td>-0.046060</td>\n",
       "      <td>0.805025</td>\n",
       "      <td>1.000000</td>\n",
       "      <td>0.563866</td>\n",
       "      <td>0.722878</td>\n",
       "    </tr>\n",
       "    <tr>\n",
       "      <th>property_claim</th>\n",
       "      <td>0.060898</td>\n",
       "      <td>-0.011654</td>\n",
       "      <td>-0.000779</td>\n",
       "      <td>-0.022863</td>\n",
       "      <td>0.810686</td>\n",
       "      <td>0.563866</td>\n",
       "      <td>1.000000</td>\n",
       "      <td>0.732090</td>\n",
       "    </tr>\n",
       "    <tr>\n",
       "      <th>vehicle_claim</th>\n",
       "      <td>0.062588</td>\n",
       "      <td>0.020246</td>\n",
       "      <td>0.015836</td>\n",
       "      <td>-0.032665</td>\n",
       "      <td>0.982773</td>\n",
       "      <td>0.722878</td>\n",
       "      <td>0.732090</td>\n",
       "      <td>1.000000</td>\n",
       "    </tr>\n",
       "  </tbody>\n",
       "</table>\n",
       "</div>"
      ],
      "text/plain": [
       "                            age  policy_annual_premium  capital-gains  \\\n",
       "age                    1.000000               0.014404      -0.007075   \n",
       "policy_annual_premium  0.014404               1.000000      -0.013738   \n",
       "capital-gains         -0.007075              -0.013738       1.000000   \n",
       "capital-loss           0.007368               0.023547      -0.046904   \n",
       "total_claim_amount     0.069863               0.009094       0.015980   \n",
       "injury_claim           0.075522              -0.017633       0.025934   \n",
       "property_claim         0.060898              -0.011654      -0.000779   \n",
       "vehicle_claim          0.062588               0.020246       0.015836   \n",
       "\n",
       "                       capital-loss  total_claim_amount  injury_claim  \\\n",
       "age                        0.007368            0.069863      0.075522   \n",
       "policy_annual_premium      0.023547            0.009094     -0.017633   \n",
       "capital-gains             -0.046904            0.015980      0.025934   \n",
       "capital-loss               1.000000           -0.036060     -0.046060   \n",
       "total_claim_amount        -0.036060            1.000000      0.805025   \n",
       "injury_claim              -0.046060            0.805025      1.000000   \n",
       "property_claim            -0.022863            0.810686      0.563866   \n",
       "vehicle_claim             -0.032665            0.982773      0.722878   \n",
       "\n",
       "                       property_claim  vehicle_claim  \n",
       "age                          0.060898       0.062588  \n",
       "policy_annual_premium       -0.011654       0.020246  \n",
       "capital-gains               -0.000779       0.015836  \n",
       "capital-loss                -0.022863      -0.032665  \n",
       "total_claim_amount           0.810686       0.982773  \n",
       "injury_claim                 0.563866       0.722878  \n",
       "property_claim               1.000000       0.732090  \n",
       "vehicle_claim                0.732090       1.000000  "
      ]
     },
     "execution_count": 327,
     "metadata": {},
     "output_type": "execute_result"
    }
   ],
   "source": [
    "corre=df[[\"age\",\"policy_annual_premium\",\"capital-gains\",\"capital-loss\",\"total_claim_amount\",\"injury_claim\",\n",
    "           \"property_claim\",\"vehicle_claim\"]].corr()\n",
    "corre"
   ]
  },
  {
   "cell_type": "code",
   "execution_count": 381,
   "id": "6a26229d-0e08-4148-acc1-c40a4038495c",
   "metadata": {},
   "outputs": [
    {
     "data": {
      "image/png": "[encoded data removed]",
      "text/plain": [
       "<Figure size 640x480 with 2 Axes>"
      ]
     },
     "metadata": {},
     "output_type": "display_data"
    }
   ],
   "source": [
    "sns.heatmap(corre,annot=True)\n",
    "plt.xticks(rotation=35)\n",
    "plt.yticks(rotation=75)\n",
    "plt.savefig(\"correlation of conti. variable.jpg\")\n",
    "plt.show()"
   ]
  },
  {
   "cell_type": "code",
   "execution_count": null,
   "id": "9ca0b940-44c4-4bda-8808-eac5e946abd4",
   "metadata": {},
   "outputs": [],
   "source": [
    "#Strong Positive Correlations:-\n",
    "#total_claim_amount has a very strong positive correlation with vehicle_claim (0.98), property_claim (0.81),\n",
    "#and injury_claim (0.81\n",
    "\n",
    "#Weak Correlations:-\n",
    "#policy_annual_premium, capital-gains, and capital-loss also generally show weak correlations with each other\n",
    "# age shows very weak correlations with most other variables,\n",
    "\n",
    "#Near-Zero or Very Weak Negative Correlations:-\n",
    "#There are some very weak negative correlations, such as between age and capital-gains (-0.0071) \n",
    "#or age and capital-loss (-0.0074).\n"
   ]
  },
  {
   "cell_type": "code",
   "execution_count": null,
   "id": "09509c7c-35c7-4445-9b0d-084614091871",
   "metadata": {},
   "outputs": [],
   "source": [
    "#  BY (MANISH KUMAR)"
   ]
  },
  {
   "cell_type": "code",
   "execution_count": null,
   "id": "7e8bc5eb-50fe-45bf-b06d-e5da393021b3",
   "metadata": {},
   "outputs": [],
   "source": []
  },
  {
   "cell_type": "code",
   "execution_count": null,
   "id": "52370938-6425-4403-8c4f-0ee39892aed0",
   "metadata": {},
   "outputs": [],
   "source": []
  }
 ],
 "metadata": {
  "kernelspec": {
   "display_name": "Python 3 (ipykernel)",
   "language": "python",
   "name": "python3"
  },
  "language_info": {
   "codemirror_mode": {
    "name": "ipython",
    "version": 3
   },
   "file_extension": ".py",
   "mimetype": "text/x-python",
   "name": "python",
   "nbconvert_exporter": "python",
   "pygments_lexer": "ipython3",
   "version": "3.12.7"
  }
 },
 "nbformat": 4,
 "nbformat_minor": 5
}
